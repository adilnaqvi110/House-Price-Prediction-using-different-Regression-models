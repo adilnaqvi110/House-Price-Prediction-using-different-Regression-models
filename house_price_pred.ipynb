{
 "cells": [
  {
   "cell_type": "code",
   "execution_count": 2,
   "metadata": {},
   "outputs": [],
   "source": [
    "import pandas as pd\n",
    "import os\n",
    "import numpy as np\n",
    "import matplotlib.pyplot as plt"
   ]
  },
  {
   "cell_type": "code",
   "execution_count": 3,
   "metadata": {},
   "outputs": [
    {
     "data": {
      "text/plain": [
       "'c:\\\\Users\\\\Adil Naqvi\\\\Desktop\\\\Projects\\\\House price prediction using Regression\\\\housing.csv'"
      ]
     },
     "execution_count": 3,
     "metadata": {},
     "output_type": "execute_result"
    }
   ],
   "source": [
    "pwd = os.getcwd()\n",
    "filepath = os.path.join(pwd,\"housing.csv\")\n",
    "filepath"
   ]
  },
  {
   "cell_type": "code",
   "execution_count": 4,
   "metadata": {},
   "outputs": [
    {
     "data": {
      "text/html": [
       "<div>\n",
       "<style scoped>\n",
       "    .dataframe tbody tr th:only-of-type {\n",
       "        vertical-align: middle;\n",
       "    }\n",
       "\n",
       "    .dataframe tbody tr th {\n",
       "        vertical-align: top;\n",
       "    }\n",
       "\n",
       "    .dataframe thead th {\n",
       "        text-align: right;\n",
       "    }\n",
       "</style>\n",
       "<table border=\"1\" class=\"dataframe\">\n",
       "  <thead>\n",
       "    <tr style=\"text-align: right;\">\n",
       "      <th></th>\n",
       "      <th>longitude</th>\n",
       "      <th>latitude</th>\n",
       "      <th>housing_median_age</th>\n",
       "      <th>total_rooms</th>\n",
       "      <th>total_bedrooms</th>\n",
       "      <th>population</th>\n",
       "      <th>households</th>\n",
       "      <th>median_income</th>\n",
       "      <th>median_house_value</th>\n",
       "      <th>ocean_proximity</th>\n",
       "    </tr>\n",
       "  </thead>\n",
       "  <tbody>\n",
       "    <tr>\n",
       "      <th>0</th>\n",
       "      <td>-122.23</td>\n",
       "      <td>37.88</td>\n",
       "      <td>41.0</td>\n",
       "      <td>880.0</td>\n",
       "      <td>129.0</td>\n",
       "      <td>322.0</td>\n",
       "      <td>126.0</td>\n",
       "      <td>8.3252</td>\n",
       "      <td>452600.0</td>\n",
       "      <td>NEAR BAY</td>\n",
       "    </tr>\n",
       "    <tr>\n",
       "      <th>1</th>\n",
       "      <td>-122.22</td>\n",
       "      <td>37.86</td>\n",
       "      <td>21.0</td>\n",
       "      <td>7099.0</td>\n",
       "      <td>1106.0</td>\n",
       "      <td>2401.0</td>\n",
       "      <td>1138.0</td>\n",
       "      <td>8.3014</td>\n",
       "      <td>358500.0</td>\n",
       "      <td>NEAR BAY</td>\n",
       "    </tr>\n",
       "    <tr>\n",
       "      <th>2</th>\n",
       "      <td>-122.24</td>\n",
       "      <td>37.85</td>\n",
       "      <td>52.0</td>\n",
       "      <td>1467.0</td>\n",
       "      <td>190.0</td>\n",
       "      <td>496.0</td>\n",
       "      <td>177.0</td>\n",
       "      <td>7.2574</td>\n",
       "      <td>352100.0</td>\n",
       "      <td>NEAR BAY</td>\n",
       "    </tr>\n",
       "    <tr>\n",
       "      <th>3</th>\n",
       "      <td>-122.25</td>\n",
       "      <td>37.85</td>\n",
       "      <td>52.0</td>\n",
       "      <td>1274.0</td>\n",
       "      <td>235.0</td>\n",
       "      <td>558.0</td>\n",
       "      <td>219.0</td>\n",
       "      <td>5.6431</td>\n",
       "      <td>341300.0</td>\n",
       "      <td>NEAR BAY</td>\n",
       "    </tr>\n",
       "    <tr>\n",
       "      <th>4</th>\n",
       "      <td>-122.25</td>\n",
       "      <td>37.85</td>\n",
       "      <td>52.0</td>\n",
       "      <td>1627.0</td>\n",
       "      <td>280.0</td>\n",
       "      <td>565.0</td>\n",
       "      <td>259.0</td>\n",
       "      <td>3.8462</td>\n",
       "      <td>342200.0</td>\n",
       "      <td>NEAR BAY</td>\n",
       "    </tr>\n",
       "    <tr>\n",
       "      <th>...</th>\n",
       "      <td>...</td>\n",
       "      <td>...</td>\n",
       "      <td>...</td>\n",
       "      <td>...</td>\n",
       "      <td>...</td>\n",
       "      <td>...</td>\n",
       "      <td>...</td>\n",
       "      <td>...</td>\n",
       "      <td>...</td>\n",
       "      <td>...</td>\n",
       "    </tr>\n",
       "    <tr>\n",
       "      <th>20635</th>\n",
       "      <td>-121.09</td>\n",
       "      <td>39.48</td>\n",
       "      <td>25.0</td>\n",
       "      <td>1665.0</td>\n",
       "      <td>374.0</td>\n",
       "      <td>845.0</td>\n",
       "      <td>330.0</td>\n",
       "      <td>1.5603</td>\n",
       "      <td>78100.0</td>\n",
       "      <td>INLAND</td>\n",
       "    </tr>\n",
       "    <tr>\n",
       "      <th>20636</th>\n",
       "      <td>-121.21</td>\n",
       "      <td>39.49</td>\n",
       "      <td>18.0</td>\n",
       "      <td>697.0</td>\n",
       "      <td>150.0</td>\n",
       "      <td>356.0</td>\n",
       "      <td>114.0</td>\n",
       "      <td>2.5568</td>\n",
       "      <td>77100.0</td>\n",
       "      <td>INLAND</td>\n",
       "    </tr>\n",
       "    <tr>\n",
       "      <th>20637</th>\n",
       "      <td>-121.22</td>\n",
       "      <td>39.43</td>\n",
       "      <td>17.0</td>\n",
       "      <td>2254.0</td>\n",
       "      <td>485.0</td>\n",
       "      <td>1007.0</td>\n",
       "      <td>433.0</td>\n",
       "      <td>1.7000</td>\n",
       "      <td>92300.0</td>\n",
       "      <td>INLAND</td>\n",
       "    </tr>\n",
       "    <tr>\n",
       "      <th>20638</th>\n",
       "      <td>-121.32</td>\n",
       "      <td>39.43</td>\n",
       "      <td>18.0</td>\n",
       "      <td>1860.0</td>\n",
       "      <td>409.0</td>\n",
       "      <td>741.0</td>\n",
       "      <td>349.0</td>\n",
       "      <td>1.8672</td>\n",
       "      <td>84700.0</td>\n",
       "      <td>INLAND</td>\n",
       "    </tr>\n",
       "    <tr>\n",
       "      <th>20639</th>\n",
       "      <td>-121.24</td>\n",
       "      <td>39.37</td>\n",
       "      <td>16.0</td>\n",
       "      <td>2785.0</td>\n",
       "      <td>616.0</td>\n",
       "      <td>1387.0</td>\n",
       "      <td>530.0</td>\n",
       "      <td>2.3886</td>\n",
       "      <td>89400.0</td>\n",
       "      <td>INLAND</td>\n",
       "    </tr>\n",
       "  </tbody>\n",
       "</table>\n",
       "<p>20640 rows × 10 columns</p>\n",
       "</div>"
      ],
      "text/plain": [
       "       longitude  latitude  housing_median_age  total_rooms  total_bedrooms  \\\n",
       "0        -122.23     37.88                41.0        880.0           129.0   \n",
       "1        -122.22     37.86                21.0       7099.0          1106.0   \n",
       "2        -122.24     37.85                52.0       1467.0           190.0   \n",
       "3        -122.25     37.85                52.0       1274.0           235.0   \n",
       "4        -122.25     37.85                52.0       1627.0           280.0   \n",
       "...          ...       ...                 ...          ...             ...   \n",
       "20635    -121.09     39.48                25.0       1665.0           374.0   \n",
       "20636    -121.21     39.49                18.0        697.0           150.0   \n",
       "20637    -121.22     39.43                17.0       2254.0           485.0   \n",
       "20638    -121.32     39.43                18.0       1860.0           409.0   \n",
       "20639    -121.24     39.37                16.0       2785.0           616.0   \n",
       "\n",
       "       population  households  median_income  median_house_value  \\\n",
       "0           322.0       126.0         8.3252            452600.0   \n",
       "1          2401.0      1138.0         8.3014            358500.0   \n",
       "2           496.0       177.0         7.2574            352100.0   \n",
       "3           558.0       219.0         5.6431            341300.0   \n",
       "4           565.0       259.0         3.8462            342200.0   \n",
       "...           ...         ...            ...                 ...   \n",
       "20635       845.0       330.0         1.5603             78100.0   \n",
       "20636       356.0       114.0         2.5568             77100.0   \n",
       "20637      1007.0       433.0         1.7000             92300.0   \n",
       "20638       741.0       349.0         1.8672             84700.0   \n",
       "20639      1387.0       530.0         2.3886             89400.0   \n",
       "\n",
       "      ocean_proximity  \n",
       "0            NEAR BAY  \n",
       "1            NEAR BAY  \n",
       "2            NEAR BAY  \n",
       "3            NEAR BAY  \n",
       "4            NEAR BAY  \n",
       "...               ...  \n",
       "20635          INLAND  \n",
       "20636          INLAND  \n",
       "20637          INLAND  \n",
       "20638          INLAND  \n",
       "20639          INLAND  \n",
       "\n",
       "[20640 rows x 10 columns]"
      ]
     },
     "execution_count": 4,
     "metadata": {},
     "output_type": "execute_result"
    }
   ],
   "source": [
    "house_data = pd.read_csv(filepath)\n",
    "house_data"
   ]
  },
  {
   "cell_type": "code",
   "execution_count": 5,
   "metadata": {},
   "outputs": [
    {
     "name": "stdout",
     "output_type": "stream",
     "text": [
      "<class 'pandas.core.frame.DataFrame'>\n",
      "RangeIndex: 20640 entries, 0 to 20639\n",
      "Data columns (total 10 columns):\n",
      " #   Column              Non-Null Count  Dtype  \n",
      "---  ------              --------------  -----  \n",
      " 0   longitude           20640 non-null  float64\n",
      " 1   latitude            20640 non-null  float64\n",
      " 2   housing_median_age  20640 non-null  float64\n",
      " 3   total_rooms         20640 non-null  float64\n",
      " 4   total_bedrooms      20433 non-null  float64\n",
      " 5   population          20640 non-null  float64\n",
      " 6   households          20640 non-null  float64\n",
      " 7   median_income       20640 non-null  float64\n",
      " 8   median_house_value  20640 non-null  float64\n",
      " 9   ocean_proximity     20640 non-null  object \n",
      "dtypes: float64(9), object(1)\n",
      "memory usage: 1.6+ MB\n"
     ]
    }
   ],
   "source": [
    "house_data.info()"
   ]
  },
  {
   "cell_type": "code",
   "execution_count": 6,
   "metadata": {},
   "outputs": [
    {
     "data": {
      "text/plain": [
       "<1H OCEAN     9136\n",
       "INLAND        6551\n",
       "NEAR OCEAN    2658\n",
       "NEAR BAY      2290\n",
       "ISLAND           5\n",
       "Name: ocean_proximity, dtype: int64"
      ]
     },
     "execution_count": 6,
     "metadata": {},
     "output_type": "execute_result"
    }
   ],
   "source": [
    "house_data['ocean_proximity'].value_counts()\n",
    "#   Number of house located in different regions "
   ]
  },
  {
   "cell_type": "code",
   "execution_count": 7,
   "metadata": {},
   "outputs": [
    {
     "data": {
      "text/plain": [
       "<AxesSubplot:>"
      ]
     },
     "execution_count": 7,
     "metadata": {},
     "output_type": "execute_result"
    },
    {
     "data": {
      "image/png": "[encoded data removed]",
      "text/plain": [
       "<Figure size 432x288 with 1 Axes>"
      ]
     },
     "metadata": {
      "needs_background": "light"
     },
     "output_type": "display_data"
    }
   ],
   "source": [
    "house_data['ocean_proximity'].value_counts().plot(kind='barh')"
   ]
  },
  {
   "cell_type": "code",
   "execution_count": 8,
   "metadata": {},
   "outputs": [
    {
     "data": {
      "text/plain": [
       "<AxesSubplot:>"
      ]
     },
     "execution_count": 8,
     "metadata": {},
     "output_type": "execute_result"
    },
    {
     "data": {
      "image/png": "[encoded data removed]",
      "text/plain": [
       "<Figure size 432x288 with 1 Axes>"
      ]
     },
     "metadata": {
      "needs_background": "light"
     },
     "output_type": "display_data"
    }
   ],
   "source": [
    "house_data['median_income'].hist()"
   ]
  },
  {
   "cell_type": "markdown",
   "metadata": {},
   "source": [
    "#### We can group the Median income of household into bins as this column is a big factor in determining the median house price"
   ]
  },
  {
   "cell_type": "code",
   "execution_count": 9,
   "metadata": {},
   "outputs": [
    {
     "data": {
      "text/plain": [
       "1     822\n",
       "2    6581\n",
       "3    7236\n",
       "4    3639\n",
       "5    2362\n",
       "Name: income_category, dtype: int64"
      ]
     },
     "execution_count": 9,
     "metadata": {},
     "output_type": "execute_result"
    }
   ],
   "source": [
    "house_data['income_category'] = pd.cut(x=house_data['median_income'],\n",
    "                                bins=[0,1.5,3,4.5,6,np.inf],\n",
    "                                labels=[1,2,3,4,5])\n",
    "house_data['income_category'].value_counts().sort_index()"
   ]
  },
  {
   "cell_type": "code",
   "execution_count": 10,
   "metadata": {},
   "outputs": [
    {
     "data": {
      "text/plain": [
       "<AxesSubplot:>"
      ]
     },
     "execution_count": 10,
     "metadata": {},
     "output_type": "execute_result"
    },
    {
     "data": {
      "image/png": "[encoded data removed]",
      "text/plain": [
       "<Figure size 432x288 with 1 Axes>"
      ]
     },
     "metadata": {
      "needs_background": "light"
     },
     "output_type": "display_data"
    }
   ],
   "source": [
    "house_data['income_category'].hist()\n",
    "#   Gives a hist of average income of households ranging from low income to high incomes"
   ]
  },
  {
   "cell_type": "code",
   "execution_count": 11,
   "metadata": {},
   "outputs": [
    {
     "data": {
      "text/html": [
       "<div>\n",
       "<style scoped>\n",
       "    .dataframe tbody tr th:only-of-type {\n",
       "        vertical-align: middle;\n",
       "    }\n",
       "\n",
       "    .dataframe tbody tr th {\n",
       "        vertical-align: top;\n",
       "    }\n",
       "\n",
       "    .dataframe thead th {\n",
       "        text-align: right;\n",
       "    }\n",
       "</style>\n",
       "<table border=\"1\" class=\"dataframe\">\n",
       "  <thead>\n",
       "    <tr style=\"text-align: right;\">\n",
       "      <th></th>\n",
       "      <th>longitude</th>\n",
       "      <th>latitude</th>\n",
       "      <th>housing_median_age</th>\n",
       "      <th>total_rooms</th>\n",
       "      <th>total_bedrooms</th>\n",
       "      <th>population</th>\n",
       "      <th>households</th>\n",
       "      <th>median_income</th>\n",
       "      <th>ocean_proximity</th>\n",
       "      <th>income_category</th>\n",
       "    </tr>\n",
       "  </thead>\n",
       "  <tbody>\n",
       "    <tr>\n",
       "      <th>0</th>\n",
       "      <td>-122.23</td>\n",
       "      <td>37.88</td>\n",
       "      <td>41.0</td>\n",
       "      <td>880.0</td>\n",
       "      <td>129.0</td>\n",
       "      <td>322.0</td>\n",
       "      <td>126.0</td>\n",
       "      <td>8.3252</td>\n",
       "      <td>NEAR BAY</td>\n",
       "      <td>5</td>\n",
       "    </tr>\n",
       "    <tr>\n",
       "      <th>1</th>\n",
       "      <td>-122.22</td>\n",
       "      <td>37.86</td>\n",
       "      <td>21.0</td>\n",
       "      <td>7099.0</td>\n",
       "      <td>1106.0</td>\n",
       "      <td>2401.0</td>\n",
       "      <td>1138.0</td>\n",
       "      <td>8.3014</td>\n",
       "      <td>NEAR BAY</td>\n",
       "      <td>5</td>\n",
       "    </tr>\n",
       "    <tr>\n",
       "      <th>2</th>\n",
       "      <td>-122.24</td>\n",
       "      <td>37.85</td>\n",
       "      <td>52.0</td>\n",
       "      <td>1467.0</td>\n",
       "      <td>190.0</td>\n",
       "      <td>496.0</td>\n",
       "      <td>177.0</td>\n",
       "      <td>7.2574</td>\n",
       "      <td>NEAR BAY</td>\n",
       "      <td>5</td>\n",
       "    </tr>\n",
       "    <tr>\n",
       "      <th>3</th>\n",
       "      <td>-122.25</td>\n",
       "      <td>37.85</td>\n",
       "      <td>52.0</td>\n",
       "      <td>1274.0</td>\n",
       "      <td>235.0</td>\n",
       "      <td>558.0</td>\n",
       "      <td>219.0</td>\n",
       "      <td>5.6431</td>\n",
       "      <td>NEAR BAY</td>\n",
       "      <td>4</td>\n",
       "    </tr>\n",
       "    <tr>\n",
       "      <th>4</th>\n",
       "      <td>-122.25</td>\n",
       "      <td>37.85</td>\n",
       "      <td>52.0</td>\n",
       "      <td>1627.0</td>\n",
       "      <td>280.0</td>\n",
       "      <td>565.0</td>\n",
       "      <td>259.0</td>\n",
       "      <td>3.8462</td>\n",
       "      <td>NEAR BAY</td>\n",
       "      <td>3</td>\n",
       "    </tr>\n",
       "    <tr>\n",
       "      <th>...</th>\n",
       "      <td>...</td>\n",
       "      <td>...</td>\n",
       "      <td>...</td>\n",
       "      <td>...</td>\n",
       "      <td>...</td>\n",
       "      <td>...</td>\n",
       "      <td>...</td>\n",
       "      <td>...</td>\n",
       "      <td>...</td>\n",
       "      <td>...</td>\n",
       "    </tr>\n",
       "    <tr>\n",
       "      <th>20635</th>\n",
       "      <td>-121.09</td>\n",
       "      <td>39.48</td>\n",
       "      <td>25.0</td>\n",
       "      <td>1665.0</td>\n",
       "      <td>374.0</td>\n",
       "      <td>845.0</td>\n",
       "      <td>330.0</td>\n",
       "      <td>1.5603</td>\n",
       "      <td>INLAND</td>\n",
       "      <td>2</td>\n",
       "    </tr>\n",
       "    <tr>\n",
       "      <th>20636</th>\n",
       "      <td>-121.21</td>\n",
       "      <td>39.49</td>\n",
       "      <td>18.0</td>\n",
       "      <td>697.0</td>\n",
       "      <td>150.0</td>\n",
       "      <td>356.0</td>\n",
       "      <td>114.0</td>\n",
       "      <td>2.5568</td>\n",
       "      <td>INLAND</td>\n",
       "      <td>2</td>\n",
       "    </tr>\n",
       "    <tr>\n",
       "      <th>20637</th>\n",
       "      <td>-121.22</td>\n",
       "      <td>39.43</td>\n",
       "      <td>17.0</td>\n",
       "      <td>2254.0</td>\n",
       "      <td>485.0</td>\n",
       "      <td>1007.0</td>\n",
       "      <td>433.0</td>\n",
       "      <td>1.7000</td>\n",
       "      <td>INLAND</td>\n",
       "      <td>2</td>\n",
       "    </tr>\n",
       "    <tr>\n",
       "      <th>20638</th>\n",
       "      <td>-121.32</td>\n",
       "      <td>39.43</td>\n",
       "      <td>18.0</td>\n",
       "      <td>1860.0</td>\n",
       "      <td>409.0</td>\n",
       "      <td>741.0</td>\n",
       "      <td>349.0</td>\n",
       "      <td>1.8672</td>\n",
       "      <td>INLAND</td>\n",
       "      <td>2</td>\n",
       "    </tr>\n",
       "    <tr>\n",
       "      <th>20639</th>\n",
       "      <td>-121.24</td>\n",
       "      <td>39.37</td>\n",
       "      <td>16.0</td>\n",
       "      <td>2785.0</td>\n",
       "      <td>616.0</td>\n",
       "      <td>1387.0</td>\n",
       "      <td>530.0</td>\n",
       "      <td>2.3886</td>\n",
       "      <td>INLAND</td>\n",
       "      <td>2</td>\n",
       "    </tr>\n",
       "  </tbody>\n",
       "</table>\n",
       "<p>20640 rows × 10 columns</p>\n",
       "</div>"
      ],
      "text/plain": [
       "       longitude  latitude  housing_median_age  total_rooms  total_bedrooms  \\\n",
       "0        -122.23     37.88                41.0        880.0           129.0   \n",
       "1        -122.22     37.86                21.0       7099.0          1106.0   \n",
       "2        -122.24     37.85                52.0       1467.0           190.0   \n",
       "3        -122.25     37.85                52.0       1274.0           235.0   \n",
       "4        -122.25     37.85                52.0       1627.0           280.0   \n",
       "...          ...       ...                 ...          ...             ...   \n",
       "20635    -121.09     39.48                25.0       1665.0           374.0   \n",
       "20636    -121.21     39.49                18.0        697.0           150.0   \n",
       "20637    -121.22     39.43                17.0       2254.0           485.0   \n",
       "20638    -121.32     39.43                18.0       1860.0           409.0   \n",
       "20639    -121.24     39.37                16.0       2785.0           616.0   \n",
       "\n",
       "       population  households  median_income ocean_proximity income_category  \n",
       "0           322.0       126.0         8.3252        NEAR BAY               5  \n",
       "1          2401.0      1138.0         8.3014        NEAR BAY               5  \n",
       "2           496.0       177.0         7.2574        NEAR BAY               5  \n",
       "3           558.0       219.0         5.6431        NEAR BAY               4  \n",
       "4           565.0       259.0         3.8462        NEAR BAY               3  \n",
       "...           ...         ...            ...             ...             ...  \n",
       "20635       845.0       330.0         1.5603          INLAND               2  \n",
       "20636       356.0       114.0         2.5568          INLAND               2  \n",
       "20637      1007.0       433.0         1.7000          INLAND               2  \n",
       "20638       741.0       349.0         1.8672          INLAND               2  \n",
       "20639      1387.0       530.0         2.3886          INLAND               2  \n",
       "\n",
       "[20640 rows x 10 columns]"
      ]
     },
     "execution_count": 11,
     "metadata": {},
     "output_type": "execute_result"
    }
   ],
   "source": [
    "y = house_data['median_house_value']\n",
    "X = house_data.drop(['median_house_value'],axis=1)\n",
    "X"
   ]
  },
  {
   "cell_type": "code",
   "execution_count": 12,
   "metadata": {},
   "outputs": [
    {
     "data": {
      "text/plain": [
       "0        452600.0\n",
       "1        358500.0\n",
       "2        352100.0\n",
       "3        341300.0\n",
       "4        342200.0\n",
       "           ...   \n",
       "20635     78100.0\n",
       "20636     77100.0\n",
       "20637     92300.0\n",
       "20638     84700.0\n",
       "20639     89400.0\n",
       "Name: median_house_value, Length: 20640, dtype: float64"
      ]
     },
     "execution_count": 12,
     "metadata": {},
     "output_type": "execute_result"
    }
   ],
   "source": [
    "y \n",
    "#     This is the dependent variable that we need to predict using Features from X"
   ]
  },
  {
   "cell_type": "markdown",
   "metadata": {},
   "source": [
    "### Split the Dataset \"X\" in test and train "
   ]
  },
  {
   "cell_type": "code",
   "execution_count": 13,
   "metadata": {},
   "outputs": [],
   "source": [
    "from sklearn.model_selection import train_test_split\n",
    "\n",
    "X_train, X_test, y_train, y_test = train_test_split(X,y,test_size=0.33)"
   ]
  },
  {
   "cell_type": "code",
   "execution_count": 14,
   "metadata": {},
   "outputs": [
    {
     "name": "stdout",
     "output_type": "stream",
     "text": [
      "(13828, 10) (13828,)\n",
      "(6812, 10) (6812,)\n"
     ]
    }
   ],
   "source": [
    "print(X_train.shape, y_train.shape)\n",
    "print(X_test.shape,y_test.shape)"
   ]
  },
  {
   "cell_type": "code",
   "execution_count": 15,
   "metadata": {},
   "outputs": [
    {
     "data": {
      "text/plain": [
       "<AxesSubplot:>"
      ]
     },
     "execution_count": 15,
     "metadata": {},
     "output_type": "execute_result"
    },
    {
     "data": {
      "image/png": "[encoded data removed]",
      "text/plain": [
       "<Figure size 432x288 with 1 Axes>"
      ]
     },
     "metadata": {
      "needs_background": "light"
     },
     "output_type": "display_data"
    }
   ],
   "source": [
    "house_data['income_category'].hist()\n",
    "X_train['income_category'].hist()"
   ]
  },
  {
   "cell_type": "markdown",
   "metadata": {},
   "source": [
    "##### For a GOOD training dataset, it should be consistent with the original dataset\n",
    "##### ie. X_train needs to be consistent with house_data\n",
    "##### We can use Stratified Split to ensure the consistency"
   ]
  },
  {
   "cell_type": "code",
   "execution_count": 16,
   "metadata": {},
   "outputs": [],
   "source": [
    "from sklearn.model_selection import StratifiedShuffleSplit\n",
    "\n",
    "split = StratifiedShuffleSplit(n_splits=1,test_size=0.33,random_state=42)\n",
    "for train_index,test_index in split.split(house_data,house_data['income_category']):\n",
    "    strat_train = house_data.loc[train_index]\n",
    "    strat_test = house_data.loc[test_index]"
   ]
  },
  {
   "cell_type": "code",
   "execution_count": 17,
   "metadata": {},
   "outputs": [
    {
     "data": {
      "text/plain": [
       "1    0.039783\n",
       "2    0.318849\n",
       "3    0.350558\n",
       "4    0.176307\n",
       "5    0.114504\n",
       "Name: income_category, dtype: float64"
      ]
     },
     "execution_count": 17,
     "metadata": {},
     "output_type": "execute_result"
    }
   ],
   "source": [
    "(strat_test['income_category'].value_counts()/len(strat_test)).sort_index()"
   ]
  },
  {
   "cell_type": "code",
   "execution_count": 18,
   "metadata": {},
   "outputs": [
    {
     "data": {
      "text/plain": [
       "1    0.039826\n",
       "2    0.318847\n",
       "3    0.350581\n",
       "4    0.176308\n",
       "5    0.114438\n",
       "Name: income_category, dtype: float64"
      ]
     },
     "execution_count": 18,
     "metadata": {},
     "output_type": "execute_result"
    }
   ],
   "source": [
    "(house_data['income_category'].value_counts()/len(house_data)).sort_index()"
   ]
  },
  {
   "cell_type": "code",
   "execution_count": 19,
   "metadata": {},
   "outputs": [
    {
     "data": {
      "text/plain": [
       "<AxesSubplot:>"
      ]
     },
     "execution_count": 19,
     "metadata": {},
     "output_type": "execute_result"
    },
    {
     "data": {
      "image/png": "[encoded data removed]",
      "text/plain": [
       "<Figure size 432x288 with 1 Axes>"
      ]
     },
     "metadata": {
      "needs_background": "light"
     },
     "output_type": "display_data"
    }
   ],
   "source": [
    "house_data['income_category'].hist()\n",
    "strat_train['income_category'].hist()"
   ]
  },
  {
   "cell_type": "markdown",
   "metadata": {},
   "source": [
    "#### The above ensured that the Train and Test data Sets are very much consistent with the original data set based on the \"income_category\" column "
   ]
  },
  {
   "cell_type": "code",
   "execution_count": 20,
   "metadata": {},
   "outputs": [],
   "source": [
    "strat_train.drop(['income_category'],axis=1,inplace=True)\n",
    "strat_test.drop(['income_category'],axis=1,inplace=True)\n",
    "#   We dropped the Income Category column as it is no longer needed for the prediction model\n",
    "#   it was only for the purpose of classification of training and testing dataSets"
   ]
  },
  {
   "cell_type": "code",
   "execution_count": 21,
   "metadata": {},
   "outputs": [],
   "source": [
    "housing = strat_train.copy()"
   ]
  },
  {
   "cell_type": "code",
   "execution_count": 22,
   "metadata": {},
   "outputs": [
    {
     "data": {
      "text/plain": [
       "array([[<AxesSubplot:title={'center':'longitude'}>,\n",
       "        <AxesSubplot:title={'center':'latitude'}>,\n",
       "        <AxesSubplot:title={'center':'housing_median_age'}>],\n",
       "       [<AxesSubplot:title={'center':'total_rooms'}>,\n",
       "        <AxesSubplot:title={'center':'total_bedrooms'}>,\n",
       "        <AxesSubplot:title={'center':'population'}>],\n",
       "       [<AxesSubplot:title={'center':'households'}>,\n",
       "        <AxesSubplot:title={'center':'median_income'}>,\n",
       "        <AxesSubplot:title={'center':'median_house_value'}>]],\n",
       "      dtype=object)"
      ]
     },
     "execution_count": 22,
     "metadata": {},
     "output_type": "execute_result"
    },
    {
     "data": {
      "image/png": "[encoded data removed]",
      "text/plain": [
       "<Figure size 1440x1080 with 9 Axes>"
      ]
     },
     "metadata": {
      "needs_background": "light"
     },
     "output_type": "display_data"
    }
   ],
   "source": [
    "housing.hist(bins=50,figsize=(20,15))"
   ]
  },
  {
   "cell_type": "markdown",
   "metadata": {},
   "source": [
    "## Correlation Matrix"
   ]
  },
  {
   "cell_type": "code",
   "execution_count": 23,
   "metadata": {},
   "outputs": [
    {
     "data": {
      "text/html": [
       "<div>\n",
       "<style scoped>\n",
       "    .dataframe tbody tr th:only-of-type {\n",
       "        vertical-align: middle;\n",
       "    }\n",
       "\n",
       "    .dataframe tbody tr th {\n",
       "        vertical-align: top;\n",
       "    }\n",
       "\n",
       "    .dataframe thead th {\n",
       "        text-align: right;\n",
       "    }\n",
       "</style>\n",
       "<table border=\"1\" class=\"dataframe\">\n",
       "  <thead>\n",
       "    <tr style=\"text-align: right;\">\n",
       "      <th></th>\n",
       "      <th>longitude</th>\n",
       "      <th>latitude</th>\n",
       "      <th>housing_median_age</th>\n",
       "      <th>total_rooms</th>\n",
       "      <th>total_bedrooms</th>\n",
       "      <th>population</th>\n",
       "      <th>households</th>\n",
       "      <th>median_income</th>\n",
       "      <th>median_house_value</th>\n",
       "    </tr>\n",
       "  </thead>\n",
       "  <tbody>\n",
       "    <tr>\n",
       "      <th>longitude</th>\n",
       "      <td>1.000000</td>\n",
       "      <td>-0.924425</td>\n",
       "      <td>-0.111518</td>\n",
       "      <td>0.052286</td>\n",
       "      <td>0.080533</td>\n",
       "      <td>0.109645</td>\n",
       "      <td>0.066610</td>\n",
       "      <td>-0.023741</td>\n",
       "      <td>-0.052886</td>\n",
       "    </tr>\n",
       "    <tr>\n",
       "      <th>latitude</th>\n",
       "      <td>-0.924425</td>\n",
       "      <td>1.000000</td>\n",
       "      <td>0.009539</td>\n",
       "      <td>-0.043430</td>\n",
       "      <td>-0.077287</td>\n",
       "      <td>-0.117782</td>\n",
       "      <td>-0.082241</td>\n",
       "      <td>-0.072663</td>\n",
       "      <td>-0.138196</td>\n",
       "    </tr>\n",
       "    <tr>\n",
       "      <th>housing_median_age</th>\n",
       "      <td>-0.111518</td>\n",
       "      <td>0.009539</td>\n",
       "      <td>1.000000</td>\n",
       "      <td>-0.362466</td>\n",
       "      <td>-0.322497</td>\n",
       "      <td>-0.296318</td>\n",
       "      <td>-0.303120</td>\n",
       "      <td>-0.112059</td>\n",
       "      <td>0.117018</td>\n",
       "    </tr>\n",
       "    <tr>\n",
       "      <th>total_rooms</th>\n",
       "      <td>0.052286</td>\n",
       "      <td>-0.043430</td>\n",
       "      <td>-0.362466</td>\n",
       "      <td>1.000000</td>\n",
       "      <td>0.929572</td>\n",
       "      <td>0.852793</td>\n",
       "      <td>0.918067</td>\n",
       "      <td>0.200348</td>\n",
       "      <td>0.135076</td>\n",
       "    </tr>\n",
       "    <tr>\n",
       "      <th>total_bedrooms</th>\n",
       "      <td>0.080533</td>\n",
       "      <td>-0.077287</td>\n",
       "      <td>-0.322497</td>\n",
       "      <td>0.929572</td>\n",
       "      <td>1.000000</td>\n",
       "      <td>0.874190</td>\n",
       "      <td>0.979507</td>\n",
       "      <td>-0.009781</td>\n",
       "      <td>0.047784</td>\n",
       "    </tr>\n",
       "    <tr>\n",
       "      <th>population</th>\n",
       "      <td>0.109645</td>\n",
       "      <td>-0.117782</td>\n",
       "      <td>-0.296318</td>\n",
       "      <td>0.852793</td>\n",
       "      <td>0.874190</td>\n",
       "      <td>1.000000</td>\n",
       "      <td>0.903072</td>\n",
       "      <td>0.002803</td>\n",
       "      <td>-0.025524</td>\n",
       "    </tr>\n",
       "    <tr>\n",
       "      <th>households</th>\n",
       "      <td>0.066610</td>\n",
       "      <td>-0.082241</td>\n",
       "      <td>-0.303120</td>\n",
       "      <td>0.918067</td>\n",
       "      <td>0.979507</td>\n",
       "      <td>0.903072</td>\n",
       "      <td>1.000000</td>\n",
       "      <td>0.011902</td>\n",
       "      <td>0.064619</td>\n",
       "    </tr>\n",
       "    <tr>\n",
       "      <th>median_income</th>\n",
       "      <td>-0.023741</td>\n",
       "      <td>-0.072663</td>\n",
       "      <td>-0.112059</td>\n",
       "      <td>0.200348</td>\n",
       "      <td>-0.009781</td>\n",
       "      <td>0.002803</td>\n",
       "      <td>0.011902</td>\n",
       "      <td>1.000000</td>\n",
       "      <td>0.688935</td>\n",
       "    </tr>\n",
       "    <tr>\n",
       "      <th>median_house_value</th>\n",
       "      <td>-0.052886</td>\n",
       "      <td>-0.138196</td>\n",
       "      <td>0.117018</td>\n",
       "      <td>0.135076</td>\n",
       "      <td>0.047784</td>\n",
       "      <td>-0.025524</td>\n",
       "      <td>0.064619</td>\n",
       "      <td>0.688935</td>\n",
       "      <td>1.000000</td>\n",
       "    </tr>\n",
       "  </tbody>\n",
       "</table>\n",
       "</div>"
      ],
      "text/plain": [
       "                    longitude  latitude  housing_median_age  total_rooms  \\\n",
       "longitude            1.000000 -0.924425           -0.111518     0.052286   \n",
       "latitude            -0.924425  1.000000            0.009539    -0.043430   \n",
       "housing_median_age  -0.111518  0.009539            1.000000    -0.362466   \n",
       "total_rooms          0.052286 -0.043430           -0.362466     1.000000   \n",
       "total_bedrooms       0.080533 -0.077287           -0.322497     0.929572   \n",
       "population           0.109645 -0.117782           -0.296318     0.852793   \n",
       "households           0.066610 -0.082241           -0.303120     0.918067   \n",
       "median_income       -0.023741 -0.072663           -0.112059     0.200348   \n",
       "median_house_value  -0.052886 -0.138196            0.117018     0.135076   \n",
       "\n",
       "                    total_bedrooms  population  households  median_income  \\\n",
       "longitude                 0.080533    0.109645    0.066610      -0.023741   \n",
       "latitude                 -0.077287   -0.117782   -0.082241      -0.072663   \n",
       "housing_median_age       -0.322497   -0.296318   -0.303120      -0.112059   \n",
       "total_rooms               0.929572    0.852793    0.918067       0.200348   \n",
       "total_bedrooms            1.000000    0.874190    0.979507      -0.009781   \n",
       "population                0.874190    1.000000    0.903072       0.002803   \n",
       "households                0.979507    0.903072    1.000000       0.011902   \n",
       "median_income            -0.009781    0.002803    0.011902       1.000000   \n",
       "median_house_value        0.047784   -0.025524    0.064619       0.688935   \n",
       "\n",
       "                    median_house_value  \n",
       "longitude                    -0.052886  \n",
       "latitude                     -0.138196  \n",
       "housing_median_age            0.117018  \n",
       "total_rooms                   0.135076  \n",
       "total_bedrooms                0.047784  \n",
       "population                   -0.025524  \n",
       "households                    0.064619  \n",
       "median_income                 0.688935  \n",
       "median_house_value            1.000000  "
      ]
     },
     "execution_count": 23,
     "metadata": {},
     "output_type": "execute_result"
    }
   ],
   "source": [
    "housing.corr()"
   ]
  },
  {
   "cell_type": "code",
   "execution_count": 24,
   "metadata": {},
   "outputs": [
    {
     "data": {
      "text/plain": [
       "<AxesSubplot:>"
      ]
     },
     "execution_count": 24,
     "metadata": {},
     "output_type": "execute_result"
    },
    {
     "data": {
      "image/png": "[encoded data removed]",
      "text/plain": [
       "<Figure size 540x540 with 2 Axes>"
      ]
     },
     "metadata": {
      "needs_background": "light"
     },
     "output_type": "display_data"
    }
   ],
   "source": [
    "import seaborn as sns\n",
    "\n",
    "corr = housing.corr()\n",
    "mask = np.triu(np.ones_like(corr,dtype=bool))\n",
    "\n",
    "f, ax = plt.subplots(figsize=(7.5,7.5))\n",
    "cmap = sns.diverging_palette(230,20,as_cmap=True)\n",
    "sns.heatmap(corr,mask=mask,cmap=cmap,vmax=0.3,center=0,square=True ,linewidth=0.5, cbar_kws={\"shrink\":0.5})\n"
   ]
  },
  {
   "cell_type": "markdown",
   "metadata": {},
   "source": [
    "###  __Preparing Data Set for Machine Learning__\n",
    "##### -> __Feature Engineering__: Creating new features or columns out of existing data in the dataset\n",
    "##### -> __Imputation__: Completeing the Data set by filling missing values\n",
    "##### -> __Categorical Encoding__: Changing Categorical values to Numerical values\n",
    "##### -> __Scaling__: Scaling the Dataset to prevent certain columns with high numerical values to overweight the prediction"
   ]
  },
  {
   "cell_type": "code",
   "execution_count": 100,
   "metadata": {},
   "outputs": [],
   "source": [
    "housing = strat_train.drop(['median_house_value'],axis=1)\n",
    "housing_labels = strat_train['median_house_value'].copy()\n",
    "\n",
    "#   housing is exactly X_train here\n",
    "#   housing_labels is exactly y_train here"
   ]
  },
  {
   "cell_type": "markdown",
   "metadata": {},
   "source": [
    "#### Filling missing values"
   ]
  },
  {
   "cell_type": "code",
   "execution_count": 31,
   "metadata": {},
   "outputs": [
    {
     "data": {
      "text/html": [
       "<div>\n",
       "<style scoped>\n",
       "    .dataframe tbody tr th:only-of-type {\n",
       "        vertical-align: middle;\n",
       "    }\n",
       "\n",
       "    .dataframe tbody tr th {\n",
       "        vertical-align: top;\n",
       "    }\n",
       "\n",
       "    .dataframe thead th {\n",
       "        text-align: right;\n",
       "    }\n",
       "</style>\n",
       "<table border=\"1\" class=\"dataframe\">\n",
       "  <thead>\n",
       "    <tr style=\"text-align: right;\">\n",
       "      <th></th>\n",
       "      <th>longitude</th>\n",
       "      <th>latitude</th>\n",
       "      <th>housing_median_age</th>\n",
       "      <th>total_rooms</th>\n",
       "      <th>total_bedrooms</th>\n",
       "      <th>population</th>\n",
       "      <th>households</th>\n",
       "      <th>median_income</th>\n",
       "      <th>ocean_proximity</th>\n",
       "    </tr>\n",
       "  </thead>\n",
       "  <tbody>\n",
       "    <tr>\n",
       "      <th>2578</th>\n",
       "      <td>-124.06</td>\n",
       "      <td>40.86</td>\n",
       "      <td>34.0</td>\n",
       "      <td>4183.0</td>\n",
       "      <td>NaN</td>\n",
       "      <td>1891.0</td>\n",
       "      <td>669.0</td>\n",
       "      <td>3.2216</td>\n",
       "      <td>NEAR OCEAN</td>\n",
       "    </tr>\n",
       "    <tr>\n",
       "      <th>11741</th>\n",
       "      <td>-121.13</td>\n",
       "      <td>38.87</td>\n",
       "      <td>48.0</td>\n",
       "      <td>1127.0</td>\n",
       "      <td>NaN</td>\n",
       "      <td>530.0</td>\n",
       "      <td>186.0</td>\n",
       "      <td>3.0917</td>\n",
       "      <td>INLAND</td>\n",
       "    </tr>\n",
       "    <tr>\n",
       "      <th>290</th>\n",
       "      <td>-122.16</td>\n",
       "      <td>37.77</td>\n",
       "      <td>47.0</td>\n",
       "      <td>1256.0</td>\n",
       "      <td>NaN</td>\n",
       "      <td>570.0</td>\n",
       "      <td>218.0</td>\n",
       "      <td>4.3750</td>\n",
       "      <td>NEAR BAY</td>\n",
       "    </tr>\n",
       "    <tr>\n",
       "      <th>5222</th>\n",
       "      <td>-118.25</td>\n",
       "      <td>33.95</td>\n",
       "      <td>28.0</td>\n",
       "      <td>2136.0</td>\n",
       "      <td>NaN</td>\n",
       "      <td>1799.0</td>\n",
       "      <td>476.0</td>\n",
       "      <td>1.5427</td>\n",
       "      <td>&lt;1H OCEAN</td>\n",
       "    </tr>\n",
       "    <tr>\n",
       "      <th>4591</th>\n",
       "      <td>-118.28</td>\n",
       "      <td>34.06</td>\n",
       "      <td>42.0</td>\n",
       "      <td>2472.0</td>\n",
       "      <td>NaN</td>\n",
       "      <td>3795.0</td>\n",
       "      <td>1179.0</td>\n",
       "      <td>1.2254</td>\n",
       "      <td>&lt;1H OCEAN</td>\n",
       "    </tr>\n",
       "    <tr>\n",
       "      <th>...</th>\n",
       "      <td>...</td>\n",
       "      <td>...</td>\n",
       "      <td>...</td>\n",
       "      <td>...</td>\n",
       "      <td>...</td>\n",
       "      <td>...</td>\n",
       "      <td>...</td>\n",
       "      <td>...</td>\n",
       "      <td>...</td>\n",
       "    </tr>\n",
       "    <tr>\n",
       "      <th>3376</th>\n",
       "      <td>-118.28</td>\n",
       "      <td>34.25</td>\n",
       "      <td>29.0</td>\n",
       "      <td>2559.0</td>\n",
       "      <td>NaN</td>\n",
       "      <td>1886.0</td>\n",
       "      <td>769.0</td>\n",
       "      <td>2.6036</td>\n",
       "      <td>&lt;1H OCEAN</td>\n",
       "    </tr>\n",
       "    <tr>\n",
       "      <th>16880</th>\n",
       "      <td>-122.39</td>\n",
       "      <td>37.59</td>\n",
       "      <td>32.0</td>\n",
       "      <td>4497.0</td>\n",
       "      <td>NaN</td>\n",
       "      <td>1846.0</td>\n",
       "      <td>715.0</td>\n",
       "      <td>6.1323</td>\n",
       "      <td>NEAR OCEAN</td>\n",
       "    </tr>\n",
       "    <tr>\n",
       "      <th>15137</th>\n",
       "      <td>-116.91</td>\n",
       "      <td>32.83</td>\n",
       "      <td>16.0</td>\n",
       "      <td>5203.0</td>\n",
       "      <td>NaN</td>\n",
       "      <td>2515.0</td>\n",
       "      <td>862.0</td>\n",
       "      <td>4.1050</td>\n",
       "      <td>&lt;1H OCEAN</td>\n",
       "    </tr>\n",
       "    <tr>\n",
       "      <th>6220</th>\n",
       "      <td>-117.91</td>\n",
       "      <td>34.05</td>\n",
       "      <td>35.0</td>\n",
       "      <td>3189.0</td>\n",
       "      <td>NaN</td>\n",
       "      <td>1727.0</td>\n",
       "      <td>500.0</td>\n",
       "      <td>5.0758</td>\n",
       "      <td>&lt;1H OCEAN</td>\n",
       "    </tr>\n",
       "    <tr>\n",
       "      <th>18332</th>\n",
       "      <td>-122.16</td>\n",
       "      <td>37.45</td>\n",
       "      <td>47.0</td>\n",
       "      <td>4234.0</td>\n",
       "      <td>NaN</td>\n",
       "      <td>1808.0</td>\n",
       "      <td>1093.0</td>\n",
       "      <td>4.2297</td>\n",
       "      <td>NEAR BAY</td>\n",
       "    </tr>\n",
       "  </tbody>\n",
       "</table>\n",
       "<p>132 rows × 9 columns</p>\n",
       "</div>"
      ],
      "text/plain": [
       "       longitude  latitude  housing_median_age  total_rooms  total_bedrooms  \\\n",
       "2578     -124.06     40.86                34.0       4183.0             NaN   \n",
       "11741    -121.13     38.87                48.0       1127.0             NaN   \n",
       "290      -122.16     37.77                47.0       1256.0             NaN   \n",
       "5222     -118.25     33.95                28.0       2136.0             NaN   \n",
       "4591     -118.28     34.06                42.0       2472.0             NaN   \n",
       "...          ...       ...                 ...          ...             ...   \n",
       "3376     -118.28     34.25                29.0       2559.0             NaN   \n",
       "16880    -122.39     37.59                32.0       4497.0             NaN   \n",
       "15137    -116.91     32.83                16.0       5203.0             NaN   \n",
       "6220     -117.91     34.05                35.0       3189.0             NaN   \n",
       "18332    -122.16     37.45                47.0       4234.0             NaN   \n",
       "\n",
       "       population  households  median_income ocean_proximity  \n",
       "2578       1891.0       669.0         3.2216      NEAR OCEAN  \n",
       "11741       530.0       186.0         3.0917          INLAND  \n",
       "290         570.0       218.0         4.3750        NEAR BAY  \n",
       "5222       1799.0       476.0         1.5427       <1H OCEAN  \n",
       "4591       3795.0      1179.0         1.2254       <1H OCEAN  \n",
       "...           ...         ...            ...             ...  \n",
       "3376       1886.0       769.0         2.6036       <1H OCEAN  \n",
       "16880      1846.0       715.0         6.1323      NEAR OCEAN  \n",
       "15137      2515.0       862.0         4.1050       <1H OCEAN  \n",
       "6220       1727.0       500.0         5.0758       <1H OCEAN  \n",
       "18332      1808.0      1093.0         4.2297        NEAR BAY  \n",
       "\n",
       "[132 rows x 9 columns]"
      ]
     },
     "execution_count": 31,
     "metadata": {},
     "output_type": "execute_result"
    }
   ],
   "source": [
    "housing[housing.isnull().any(axis=1)]"
   ]
  },
  {
   "cell_type": "markdown",
   "metadata": {},
   "source": [
    "#### __We need to impute the NaN values in total_bedrooms column__\n",
    "##### ie. we can fill median of the total_bedrooms in place of NaN values to solve missing values in the Data Set"
   ]
  },
  {
   "cell_type": "code",
   "execution_count": 32,
   "metadata": {},
   "outputs": [],
   "source": [
    "median = housing['total_bedrooms'].median()\n",
    "housing['total_bedrooms'].fillna(median,inplace=True)"
   ]
  },
  {
   "cell_type": "code",
   "execution_count": 35,
   "metadata": {},
   "outputs": [
    {
     "data": {
      "text/plain": [
       "longitude             False\n",
       "latitude              False\n",
       "housing_median_age    False\n",
       "total_rooms           False\n",
       "total_bedrooms        False\n",
       "population            False\n",
       "households            False\n",
       "median_income         False\n",
       "ocean_proximity       False\n",
       "dtype: bool"
      ]
     },
     "execution_count": 35,
     "metadata": {},
     "output_type": "execute_result"
    }
   ],
   "source": [
    "housing.isnull().any()"
   ]
  },
  {
   "cell_type": "code",
   "execution_count": 42,
   "metadata": {},
   "outputs": [
    {
     "data": {
      "text/html": [
       "<div>\n",
       "<style scoped>\n",
       "    .dataframe tbody tr th:only-of-type {\n",
       "        vertical-align: middle;\n",
       "    }\n",
       "\n",
       "    .dataframe tbody tr th {\n",
       "        vertical-align: top;\n",
       "    }\n",
       "\n",
       "    .dataframe thead th {\n",
       "        text-align: right;\n",
       "    }\n",
       "</style>\n",
       "<table border=\"1\" class=\"dataframe\">\n",
       "  <thead>\n",
       "    <tr style=\"text-align: right;\">\n",
       "      <th></th>\n",
       "      <th>longitude</th>\n",
       "      <th>latitude</th>\n",
       "      <th>housing_median_age</th>\n",
       "      <th>total_rooms</th>\n",
       "      <th>total_bedrooms</th>\n",
       "      <th>population</th>\n",
       "      <th>households</th>\n",
       "      <th>median_income</th>\n",
       "      <th>ocean_proximity</th>\n",
       "    </tr>\n",
       "  </thead>\n",
       "  <tbody>\n",
       "    <tr>\n",
       "      <th>13325</th>\n",
       "      <td>-117.63</td>\n",
       "      <td>34.06</td>\n",
       "      <td>39.0</td>\n",
       "      <td>1210.0</td>\n",
       "      <td>310.0</td>\n",
       "      <td>1294.0</td>\n",
       "      <td>303.0</td>\n",
       "      <td>2.3636</td>\n",
       "      <td>INLAND</td>\n",
       "    </tr>\n",
       "    <tr>\n",
       "      <th>20355</th>\n",
       "      <td>-118.96</td>\n",
       "      <td>34.19</td>\n",
       "      <td>16.0</td>\n",
       "      <td>1807.0</td>\n",
       "      <td>346.0</td>\n",
       "      <td>587.0</td>\n",
       "      <td>296.0</td>\n",
       "      <td>1.9811</td>\n",
       "      <td>&lt;1H OCEAN</td>\n",
       "    </tr>\n",
       "    <tr>\n",
       "      <th>7481</th>\n",
       "      <td>-118.23</td>\n",
       "      <td>33.93</td>\n",
       "      <td>23.0</td>\n",
       "      <td>545.0</td>\n",
       "      <td>131.0</td>\n",
       "      <td>610.0</td>\n",
       "      <td>126.0</td>\n",
       "      <td>1.4861</td>\n",
       "      <td>&lt;1H OCEAN</td>\n",
       "    </tr>\n",
       "    <tr>\n",
       "      <th>15465</th>\n",
       "      <td>-117.22</td>\n",
       "      <td>33.18</td>\n",
       "      <td>13.0</td>\n",
       "      <td>4273.0</td>\n",
       "      <td>886.0</td>\n",
       "      <td>2328.0</td>\n",
       "      <td>801.0</td>\n",
       "      <td>3.3444</td>\n",
       "      <td>&lt;1H OCEAN</td>\n",
       "    </tr>\n",
       "    <tr>\n",
       "      <th>18116</th>\n",
       "      <td>-122.02</td>\n",
       "      <td>37.30</td>\n",
       "      <td>32.0</td>\n",
       "      <td>2134.0</td>\n",
       "      <td>328.0</td>\n",
       "      <td>903.0</td>\n",
       "      <td>322.0</td>\n",
       "      <td>6.3590</td>\n",
       "      <td>&lt;1H OCEAN</td>\n",
       "    </tr>\n",
       "    <tr>\n",
       "      <th>...</th>\n",
       "      <td>...</td>\n",
       "      <td>...</td>\n",
       "      <td>...</td>\n",
       "      <td>...</td>\n",
       "      <td>...</td>\n",
       "      <td>...</td>\n",
       "      <td>...</td>\n",
       "      <td>...</td>\n",
       "      <td>...</td>\n",
       "    </tr>\n",
       "    <tr>\n",
       "      <th>994</th>\n",
       "      <td>-121.73</td>\n",
       "      <td>37.71</td>\n",
       "      <td>12.0</td>\n",
       "      <td>5608.0</td>\n",
       "      <td>1049.0</td>\n",
       "      <td>2595.0</td>\n",
       "      <td>1067.0</td>\n",
       "      <td>3.9864</td>\n",
       "      <td>INLAND</td>\n",
       "    </tr>\n",
       "    <tr>\n",
       "      <th>5377</th>\n",
       "      <td>-118.39</td>\n",
       "      <td>34.04</td>\n",
       "      <td>49.0</td>\n",
       "      <td>1230.0</td>\n",
       "      <td>279.0</td>\n",
       "      <td>669.0</td>\n",
       "      <td>269.0</td>\n",
       "      <td>3.9038</td>\n",
       "      <td>&lt;1H OCEAN</td>\n",
       "    </tr>\n",
       "    <tr>\n",
       "      <th>5448</th>\n",
       "      <td>-118.42</td>\n",
       "      <td>34.01</td>\n",
       "      <td>29.0</td>\n",
       "      <td>1996.0</td>\n",
       "      <td>489.0</td>\n",
       "      <td>960.0</td>\n",
       "      <td>449.0</td>\n",
       "      <td>3.6611</td>\n",
       "      <td>&lt;1H OCEAN</td>\n",
       "    </tr>\n",
       "    <tr>\n",
       "      <th>9813</th>\n",
       "      <td>-121.92</td>\n",
       "      <td>36.61</td>\n",
       "      <td>29.0</td>\n",
       "      <td>3735.0</td>\n",
       "      <td>808.0</td>\n",
       "      <td>1873.0</td>\n",
       "      <td>757.0</td>\n",
       "      <td>3.1543</td>\n",
       "      <td>NEAR OCEAN</td>\n",
       "    </tr>\n",
       "    <tr>\n",
       "      <th>11752</th>\n",
       "      <td>-121.21</td>\n",
       "      <td>38.76</td>\n",
       "      <td>16.0</td>\n",
       "      <td>1608.0</td>\n",
       "      <td>296.0</td>\n",
       "      <td>792.0</td>\n",
       "      <td>286.0</td>\n",
       "      <td>3.1583</td>\n",
       "      <td>INLAND</td>\n",
       "    </tr>\n",
       "  </tbody>\n",
       "</table>\n",
       "<p>13828 rows × 9 columns</p>\n",
       "</div>"
      ],
      "text/plain": [
       "       longitude  latitude  housing_median_age  total_rooms  total_bedrooms  \\\n",
       "13325    -117.63     34.06                39.0       1210.0           310.0   \n",
       "20355    -118.96     34.19                16.0       1807.0           346.0   \n",
       "7481     -118.23     33.93                23.0        545.0           131.0   \n",
       "15465    -117.22     33.18                13.0       4273.0           886.0   \n",
       "18116    -122.02     37.30                32.0       2134.0           328.0   \n",
       "...          ...       ...                 ...          ...             ...   \n",
       "994      -121.73     37.71                12.0       5608.0          1049.0   \n",
       "5377     -118.39     34.04                49.0       1230.0           279.0   \n",
       "5448     -118.42     34.01                29.0       1996.0           489.0   \n",
       "9813     -121.92     36.61                29.0       3735.0           808.0   \n",
       "11752    -121.21     38.76                16.0       1608.0           296.0   \n",
       "\n",
       "       population  households  median_income ocean_proximity  \n",
       "13325      1294.0       303.0         2.3636          INLAND  \n",
       "20355       587.0       296.0         1.9811       <1H OCEAN  \n",
       "7481        610.0       126.0         1.4861       <1H OCEAN  \n",
       "15465      2328.0       801.0         3.3444       <1H OCEAN  \n",
       "18116       903.0       322.0         6.3590       <1H OCEAN  \n",
       "...           ...         ...            ...             ...  \n",
       "994        2595.0      1067.0         3.9864          INLAND  \n",
       "5377        669.0       269.0         3.9038       <1H OCEAN  \n",
       "5448        960.0       449.0         3.6611       <1H OCEAN  \n",
       "9813       1873.0       757.0         3.1543      NEAR OCEAN  \n",
       "11752       792.0       286.0         3.1583          INLAND  \n",
       "\n",
       "[13828 rows x 9 columns]"
      ]
     },
     "execution_count": 42,
     "metadata": {},
     "output_type": "execute_result"
    }
   ],
   "source": [
    "housing"
   ]
  },
  {
   "cell_type": "markdown",
   "metadata": {},
   "source": [
    "#### __Encoding Categorical Values to change Objects into Numericals__"
   ]
  },
  {
   "cell_type": "code",
   "execution_count": 44,
   "metadata": {},
   "outputs": [
    {
     "data": {
      "text/html": [
       "<div>\n",
       "<style scoped>\n",
       "    .dataframe tbody tr th:only-of-type {\n",
       "        vertical-align: middle;\n",
       "    }\n",
       "\n",
       "    .dataframe tbody tr th {\n",
       "        vertical-align: top;\n",
       "    }\n",
       "\n",
       "    .dataframe thead th {\n",
       "        text-align: right;\n",
       "    }\n",
       "</style>\n",
       "<table border=\"1\" class=\"dataframe\">\n",
       "  <thead>\n",
       "    <tr style=\"text-align: right;\">\n",
       "      <th></th>\n",
       "      <th>longitude</th>\n",
       "      <th>latitude</th>\n",
       "      <th>housing_median_age</th>\n",
       "      <th>total_rooms</th>\n",
       "      <th>total_bedrooms</th>\n",
       "      <th>population</th>\n",
       "      <th>households</th>\n",
       "      <th>median_income</th>\n",
       "      <th>median_house_value</th>\n",
       "      <th>ocean_proximity</th>\n",
       "      <th>income_category</th>\n",
       "    </tr>\n",
       "  </thead>\n",
       "  <tbody>\n",
       "    <tr>\n",
       "      <th>0</th>\n",
       "      <td>-122.23</td>\n",
       "      <td>37.88</td>\n",
       "      <td>41.0</td>\n",
       "      <td>880.0</td>\n",
       "      <td>129.0</td>\n",
       "      <td>322.0</td>\n",
       "      <td>126.0</td>\n",
       "      <td>8.3252</td>\n",
       "      <td>452600.0</td>\n",
       "      <td>NEAR BAY</td>\n",
       "      <td>5</td>\n",
       "    </tr>\n",
       "    <tr>\n",
       "      <th>1</th>\n",
       "      <td>-122.22</td>\n",
       "      <td>37.86</td>\n",
       "      <td>21.0</td>\n",
       "      <td>7099.0</td>\n",
       "      <td>1106.0</td>\n",
       "      <td>2401.0</td>\n",
       "      <td>1138.0</td>\n",
       "      <td>8.3014</td>\n",
       "      <td>358500.0</td>\n",
       "      <td>NEAR BAY</td>\n",
       "      <td>5</td>\n",
       "    </tr>\n",
       "    <tr>\n",
       "      <th>2</th>\n",
       "      <td>-122.24</td>\n",
       "      <td>37.85</td>\n",
       "      <td>52.0</td>\n",
       "      <td>1467.0</td>\n",
       "      <td>190.0</td>\n",
       "      <td>496.0</td>\n",
       "      <td>177.0</td>\n",
       "      <td>7.2574</td>\n",
       "      <td>352100.0</td>\n",
       "      <td>NEAR BAY</td>\n",
       "      <td>5</td>\n",
       "    </tr>\n",
       "    <tr>\n",
       "      <th>3</th>\n",
       "      <td>-122.25</td>\n",
       "      <td>37.85</td>\n",
       "      <td>52.0</td>\n",
       "      <td>1274.0</td>\n",
       "      <td>235.0</td>\n",
       "      <td>558.0</td>\n",
       "      <td>219.0</td>\n",
       "      <td>5.6431</td>\n",
       "      <td>341300.0</td>\n",
       "      <td>NEAR BAY</td>\n",
       "      <td>4</td>\n",
       "    </tr>\n",
       "    <tr>\n",
       "      <th>4</th>\n",
       "      <td>-122.25</td>\n",
       "      <td>37.85</td>\n",
       "      <td>52.0</td>\n",
       "      <td>1627.0</td>\n",
       "      <td>280.0</td>\n",
       "      <td>565.0</td>\n",
       "      <td>259.0</td>\n",
       "      <td>3.8462</td>\n",
       "      <td>342200.0</td>\n",
       "      <td>NEAR BAY</td>\n",
       "      <td>3</td>\n",
       "    </tr>\n",
       "    <tr>\n",
       "      <th>...</th>\n",
       "      <td>...</td>\n",
       "      <td>...</td>\n",
       "      <td>...</td>\n",
       "      <td>...</td>\n",
       "      <td>...</td>\n",
       "      <td>...</td>\n",
       "      <td>...</td>\n",
       "      <td>...</td>\n",
       "      <td>...</td>\n",
       "      <td>...</td>\n",
       "      <td>...</td>\n",
       "    </tr>\n",
       "    <tr>\n",
       "      <th>20635</th>\n",
       "      <td>-121.09</td>\n",
       "      <td>39.48</td>\n",
       "      <td>25.0</td>\n",
       "      <td>1665.0</td>\n",
       "      <td>374.0</td>\n",
       "      <td>845.0</td>\n",
       "      <td>330.0</td>\n",
       "      <td>1.5603</td>\n",
       "      <td>78100.0</td>\n",
       "      <td>INLAND</td>\n",
       "      <td>2</td>\n",
       "    </tr>\n",
       "    <tr>\n",
       "      <th>20636</th>\n",
       "      <td>-121.21</td>\n",
       "      <td>39.49</td>\n",
       "      <td>18.0</td>\n",
       "      <td>697.0</td>\n",
       "      <td>150.0</td>\n",
       "      <td>356.0</td>\n",
       "      <td>114.0</td>\n",
       "      <td>2.5568</td>\n",
       "      <td>77100.0</td>\n",
       "      <td>INLAND</td>\n",
       "      <td>2</td>\n",
       "    </tr>\n",
       "    <tr>\n",
       "      <th>20637</th>\n",
       "      <td>-121.22</td>\n",
       "      <td>39.43</td>\n",
       "      <td>17.0</td>\n",
       "      <td>2254.0</td>\n",
       "      <td>485.0</td>\n",
       "      <td>1007.0</td>\n",
       "      <td>433.0</td>\n",
       "      <td>1.7000</td>\n",
       "      <td>92300.0</td>\n",
       "      <td>INLAND</td>\n",
       "      <td>2</td>\n",
       "    </tr>\n",
       "    <tr>\n",
       "      <th>20638</th>\n",
       "      <td>-121.32</td>\n",
       "      <td>39.43</td>\n",
       "      <td>18.0</td>\n",
       "      <td>1860.0</td>\n",
       "      <td>409.0</td>\n",
       "      <td>741.0</td>\n",
       "      <td>349.0</td>\n",
       "      <td>1.8672</td>\n",
       "      <td>84700.0</td>\n",
       "      <td>INLAND</td>\n",
       "      <td>2</td>\n",
       "    </tr>\n",
       "    <tr>\n",
       "      <th>20639</th>\n",
       "      <td>-121.24</td>\n",
       "      <td>39.37</td>\n",
       "      <td>16.0</td>\n",
       "      <td>2785.0</td>\n",
       "      <td>616.0</td>\n",
       "      <td>1387.0</td>\n",
       "      <td>530.0</td>\n",
       "      <td>2.3886</td>\n",
       "      <td>89400.0</td>\n",
       "      <td>INLAND</td>\n",
       "      <td>2</td>\n",
       "    </tr>\n",
       "  </tbody>\n",
       "</table>\n",
       "<p>20640 rows × 11 columns</p>\n",
       "</div>"
      ],
      "text/plain": [
       "       longitude  latitude  housing_median_age  total_rooms  total_bedrooms  \\\n",
       "0        -122.23     37.88                41.0        880.0           129.0   \n",
       "1        -122.22     37.86                21.0       7099.0          1106.0   \n",
       "2        -122.24     37.85                52.0       1467.0           190.0   \n",
       "3        -122.25     37.85                52.0       1274.0           235.0   \n",
       "4        -122.25     37.85                52.0       1627.0           280.0   \n",
       "...          ...       ...                 ...          ...             ...   \n",
       "20635    -121.09     39.48                25.0       1665.0           374.0   \n",
       "20636    -121.21     39.49                18.0        697.0           150.0   \n",
       "20637    -121.22     39.43                17.0       2254.0           485.0   \n",
       "20638    -121.32     39.43                18.0       1860.0           409.0   \n",
       "20639    -121.24     39.37                16.0       2785.0           616.0   \n",
       "\n",
       "       population  households  median_income  median_house_value  \\\n",
       "0           322.0       126.0         8.3252            452600.0   \n",
       "1          2401.0      1138.0         8.3014            358500.0   \n",
       "2           496.0       177.0         7.2574            352100.0   \n",
       "3           558.0       219.0         5.6431            341300.0   \n",
       "4           565.0       259.0         3.8462            342200.0   \n",
       "...           ...         ...            ...                 ...   \n",
       "20635       845.0       330.0         1.5603             78100.0   \n",
       "20636       356.0       114.0         2.5568             77100.0   \n",
       "20637      1007.0       433.0         1.7000             92300.0   \n",
       "20638       741.0       349.0         1.8672             84700.0   \n",
       "20639      1387.0       530.0         2.3886             89400.0   \n",
       "\n",
       "      ocean_proximity income_category  \n",
       "0            NEAR BAY               5  \n",
       "1            NEAR BAY               5  \n",
       "2            NEAR BAY               5  \n",
       "3            NEAR BAY               4  \n",
       "4            NEAR BAY               3  \n",
       "...               ...             ...  \n",
       "20635          INLAND               2  \n",
       "20636          INLAND               2  \n",
       "20637          INLAND               2  \n",
       "20638          INLAND               2  \n",
       "20639          INLAND               2  \n",
       "\n",
       "[20640 rows x 11 columns]"
      ]
     },
     "execution_count": 44,
     "metadata": {},
     "output_type": "execute_result"
    }
   ],
   "source": [
    "house_data"
   ]
  },
  {
   "cell_type": "code",
   "execution_count": 85,
   "metadata": {},
   "outputs": [
    {
     "data": {
      "text/html": [
       "<div>\n",
       "<style scoped>\n",
       "    .dataframe tbody tr th:only-of-type {\n",
       "        vertical-align: middle;\n",
       "    }\n",
       "\n",
       "    .dataframe tbody tr th {\n",
       "        vertical-align: top;\n",
       "    }\n",
       "\n",
       "    .dataframe thead th {\n",
       "        text-align: right;\n",
       "    }\n",
       "</style>\n",
       "<table border=\"1\" class=\"dataframe\">\n",
       "  <thead>\n",
       "    <tr style=\"text-align: right;\">\n",
       "      <th></th>\n",
       "      <th>ocean_proximity</th>\n",
       "    </tr>\n",
       "  </thead>\n",
       "  <tbody>\n",
       "    <tr>\n",
       "      <th>13325</th>\n",
       "      <td>INLAND</td>\n",
       "    </tr>\n",
       "    <tr>\n",
       "      <th>20355</th>\n",
       "      <td>&lt;1H OCEAN</td>\n",
       "    </tr>\n",
       "    <tr>\n",
       "      <th>7481</th>\n",
       "      <td>&lt;1H OCEAN</td>\n",
       "    </tr>\n",
       "    <tr>\n",
       "      <th>15465</th>\n",
       "      <td>&lt;1H OCEAN</td>\n",
       "    </tr>\n",
       "    <tr>\n",
       "      <th>18116</th>\n",
       "      <td>&lt;1H OCEAN</td>\n",
       "    </tr>\n",
       "    <tr>\n",
       "      <th>...</th>\n",
       "      <td>...</td>\n",
       "    </tr>\n",
       "    <tr>\n",
       "      <th>994</th>\n",
       "      <td>INLAND</td>\n",
       "    </tr>\n",
       "    <tr>\n",
       "      <th>5377</th>\n",
       "      <td>&lt;1H OCEAN</td>\n",
       "    </tr>\n",
       "    <tr>\n",
       "      <th>5448</th>\n",
       "      <td>&lt;1H OCEAN</td>\n",
       "    </tr>\n",
       "    <tr>\n",
       "      <th>9813</th>\n",
       "      <td>NEAR OCEAN</td>\n",
       "    </tr>\n",
       "    <tr>\n",
       "      <th>11752</th>\n",
       "      <td>INLAND</td>\n",
       "    </tr>\n",
       "  </tbody>\n",
       "</table>\n",
       "<p>13828 rows × 1 columns</p>\n",
       "</div>"
      ],
      "text/plain": [
       "      ocean_proximity\n",
       "13325          INLAND\n",
       "20355       <1H OCEAN\n",
       "7481        <1H OCEAN\n",
       "15465       <1H OCEAN\n",
       "18116       <1H OCEAN\n",
       "...               ...\n",
       "994            INLAND\n",
       "5377        <1H OCEAN\n",
       "5448        <1H OCEAN\n",
       "9813       NEAR OCEAN\n",
       "11752          INLAND\n",
       "\n",
       "[13828 rows x 1 columns]"
      ]
     },
     "execution_count": 85,
     "metadata": {},
     "output_type": "execute_result"
    }
   ],
   "source": [
    "housing_cat = housing[['ocean_proximity']]\n",
    "housing_cat"
   ]
  },
  {
   "cell_type": "code",
   "execution_count": 86,
   "metadata": {},
   "outputs": [
    {
     "data": {
      "text/plain": [
       "array([[1.],\n",
       "       [0.],\n",
       "       [0.],\n",
       "       ...,\n",
       "       [0.],\n",
       "       [4.],\n",
       "       [1.]])"
      ]
     },
     "execution_count": 86,
     "metadata": {},
     "output_type": "execute_result"
    }
   ],
   "source": [
    "#   Ordinal Encoding\n",
    "from sklearn.preprocessing import OrdinalEncoder\n",
    "\n",
    "ord_encoder = OrdinalEncoder()\n",
    "housing_cat_ord = ord_encoder.fit_transform(housing_cat)\n",
    "housing_cat_ord"
   ]
  },
  {
   "cell_type": "code",
   "execution_count": 87,
   "metadata": {},
   "outputs": [
    {
     "data": {
      "text/plain": [
       "array([[0., 1., 0., 0., 0.],\n",
       "       [1., 0., 0., 0., 0.],\n",
       "       [1., 0., 0., 0., 0.],\n",
       "       ...,\n",
       "       [1., 0., 0., 0., 0.],\n",
       "       [0., 0., 0., 0., 1.],\n",
       "       [0., 1., 0., 0., 0.]])"
      ]
     },
     "execution_count": 87,
     "metadata": {},
     "output_type": "execute_result"
    }
   ],
   "source": [
    "#   OneHot Encoding\n",
    "from sklearn.preprocessing import OneHotEncoder\n",
    "\n",
    "cat_encoder = OneHotEncoder(sparse=False)\n",
    "housing_cat_1hot = cat_encoder.fit_transform(housing_cat)\n",
    "housing_cat_1hot\n"
   ]
  },
  {
   "cell_type": "markdown",
   "metadata": {},
   "source": [
    "#### OneHot Encoding removes the possibilty that the algorithm might assume that some category is better than the other, which sometimes occurs in case of Ordinal Encoding \n",
    "#### (Bcoz ordinal assigns random integers to different objects which can sometimes define priority)"
   ]
  },
  {
   "cell_type": "code",
   "execution_count": 88,
   "metadata": {},
   "outputs": [
    {
     "data": {
      "text/plain": [
       "[array(['<1H OCEAN', 'INLAND', 'ISLAND', 'NEAR BAY', 'NEAR OCEAN'],\n",
       "       dtype=object)]"
      ]
     },
     "execution_count": 88,
     "metadata": {},
     "output_type": "execute_result"
    }
   ],
   "source": [
    "cat_encoder.categories_"
   ]
  },
  {
   "cell_type": "code",
   "execution_count": 89,
   "metadata": {},
   "outputs": [
    {
     "data": {
      "text/html": [
       "<div>\n",
       "<style scoped>\n",
       "    .dataframe tbody tr th:only-of-type {\n",
       "        vertical-align: middle;\n",
       "    }\n",
       "\n",
       "    .dataframe tbody tr th {\n",
       "        vertical-align: top;\n",
       "    }\n",
       "\n",
       "    .dataframe thead th {\n",
       "        text-align: right;\n",
       "    }\n",
       "</style>\n",
       "<table border=\"1\" class=\"dataframe\">\n",
       "  <thead>\n",
       "    <tr style=\"text-align: right;\">\n",
       "      <th></th>\n",
       "      <th>longitude</th>\n",
       "      <th>latitude</th>\n",
       "      <th>housing_median_age</th>\n",
       "      <th>total_rooms</th>\n",
       "      <th>total_bedrooms</th>\n",
       "      <th>population</th>\n",
       "      <th>households</th>\n",
       "      <th>median_income</th>\n",
       "    </tr>\n",
       "  </thead>\n",
       "  <tbody>\n",
       "    <tr>\n",
       "      <th>13325</th>\n",
       "      <td>-117.63</td>\n",
       "      <td>34.06</td>\n",
       "      <td>39.0</td>\n",
       "      <td>1210.0</td>\n",
       "      <td>310.0</td>\n",
       "      <td>1294.0</td>\n",
       "      <td>303.0</td>\n",
       "      <td>2.3636</td>\n",
       "    </tr>\n",
       "    <tr>\n",
       "      <th>20355</th>\n",
       "      <td>-118.96</td>\n",
       "      <td>34.19</td>\n",
       "      <td>16.0</td>\n",
       "      <td>1807.0</td>\n",
       "      <td>346.0</td>\n",
       "      <td>587.0</td>\n",
       "      <td>296.0</td>\n",
       "      <td>1.9811</td>\n",
       "    </tr>\n",
       "    <tr>\n",
       "      <th>7481</th>\n",
       "      <td>-118.23</td>\n",
       "      <td>33.93</td>\n",
       "      <td>23.0</td>\n",
       "      <td>545.0</td>\n",
       "      <td>131.0</td>\n",
       "      <td>610.0</td>\n",
       "      <td>126.0</td>\n",
       "      <td>1.4861</td>\n",
       "    </tr>\n",
       "    <tr>\n",
       "      <th>15465</th>\n",
       "      <td>-117.22</td>\n",
       "      <td>33.18</td>\n",
       "      <td>13.0</td>\n",
       "      <td>4273.0</td>\n",
       "      <td>886.0</td>\n",
       "      <td>2328.0</td>\n",
       "      <td>801.0</td>\n",
       "      <td>3.3444</td>\n",
       "    </tr>\n",
       "    <tr>\n",
       "      <th>18116</th>\n",
       "      <td>-122.02</td>\n",
       "      <td>37.30</td>\n",
       "      <td>32.0</td>\n",
       "      <td>2134.0</td>\n",
       "      <td>328.0</td>\n",
       "      <td>903.0</td>\n",
       "      <td>322.0</td>\n",
       "      <td>6.3590</td>\n",
       "    </tr>\n",
       "    <tr>\n",
       "      <th>...</th>\n",
       "      <td>...</td>\n",
       "      <td>...</td>\n",
       "      <td>...</td>\n",
       "      <td>...</td>\n",
       "      <td>...</td>\n",
       "      <td>...</td>\n",
       "      <td>...</td>\n",
       "      <td>...</td>\n",
       "    </tr>\n",
       "    <tr>\n",
       "      <th>994</th>\n",
       "      <td>-121.73</td>\n",
       "      <td>37.71</td>\n",
       "      <td>12.0</td>\n",
       "      <td>5608.0</td>\n",
       "      <td>1049.0</td>\n",
       "      <td>2595.0</td>\n",
       "      <td>1067.0</td>\n",
       "      <td>3.9864</td>\n",
       "    </tr>\n",
       "    <tr>\n",
       "      <th>5377</th>\n",
       "      <td>-118.39</td>\n",
       "      <td>34.04</td>\n",
       "      <td>49.0</td>\n",
       "      <td>1230.0</td>\n",
       "      <td>279.0</td>\n",
       "      <td>669.0</td>\n",
       "      <td>269.0</td>\n",
       "      <td>3.9038</td>\n",
       "    </tr>\n",
       "    <tr>\n",
       "      <th>5448</th>\n",
       "      <td>-118.42</td>\n",
       "      <td>34.01</td>\n",
       "      <td>29.0</td>\n",
       "      <td>1996.0</td>\n",
       "      <td>489.0</td>\n",
       "      <td>960.0</td>\n",
       "      <td>449.0</td>\n",
       "      <td>3.6611</td>\n",
       "    </tr>\n",
       "    <tr>\n",
       "      <th>9813</th>\n",
       "      <td>-121.92</td>\n",
       "      <td>36.61</td>\n",
       "      <td>29.0</td>\n",
       "      <td>3735.0</td>\n",
       "      <td>808.0</td>\n",
       "      <td>1873.0</td>\n",
       "      <td>757.0</td>\n",
       "      <td>3.1543</td>\n",
       "    </tr>\n",
       "    <tr>\n",
       "      <th>11752</th>\n",
       "      <td>-121.21</td>\n",
       "      <td>38.76</td>\n",
       "      <td>16.0</td>\n",
       "      <td>1608.0</td>\n",
       "      <td>296.0</td>\n",
       "      <td>792.0</td>\n",
       "      <td>286.0</td>\n",
       "      <td>3.1583</td>\n",
       "    </tr>\n",
       "  </tbody>\n",
       "</table>\n",
       "<p>13828 rows × 8 columns</p>\n",
       "</div>"
      ],
      "text/plain": [
       "       longitude  latitude  housing_median_age  total_rooms  total_bedrooms  \\\n",
       "13325    -117.63     34.06                39.0       1210.0           310.0   \n",
       "20355    -118.96     34.19                16.0       1807.0           346.0   \n",
       "7481     -118.23     33.93                23.0        545.0           131.0   \n",
       "15465    -117.22     33.18                13.0       4273.0           886.0   \n",
       "18116    -122.02     37.30                32.0       2134.0           328.0   \n",
       "...          ...       ...                 ...          ...             ...   \n",
       "994      -121.73     37.71                12.0       5608.0          1049.0   \n",
       "5377     -118.39     34.04                49.0       1230.0           279.0   \n",
       "5448     -118.42     34.01                29.0       1996.0           489.0   \n",
       "9813     -121.92     36.61                29.0       3735.0           808.0   \n",
       "11752    -121.21     38.76                16.0       1608.0           296.0   \n",
       "\n",
       "       population  households  median_income  \n",
       "13325      1294.0       303.0         2.3636  \n",
       "20355       587.0       296.0         1.9811  \n",
       "7481        610.0       126.0         1.4861  \n",
       "15465      2328.0       801.0         3.3444  \n",
       "18116       903.0       322.0         6.3590  \n",
       "...           ...         ...            ...  \n",
       "994        2595.0      1067.0         3.9864  \n",
       "5377        669.0       269.0         3.9038  \n",
       "5448        960.0       449.0         3.6611  \n",
       "9813       1873.0       757.0         3.1543  \n",
       "11752       792.0       286.0         3.1583  \n",
       "\n",
       "[13828 rows x 8 columns]"
      ]
     },
     "execution_count": 89,
     "metadata": {},
     "output_type": "execute_result"
    }
   ],
   "source": [
    "housing_num = housing.drop(['ocean_proximity'],axis=1)\n",
    "housing_num"
   ]
  },
  {
   "cell_type": "markdown",
   "metadata": {},
   "source": [
    "### __Feature Engineering__\n",
    "#### This involves creating new features from exiting ones to better prepare the data set for ML algorithms"
   ]
  },
  {
   "cell_type": "code",
   "execution_count": 73,
   "metadata": {},
   "outputs": [],
   "source": [
    "def feature_eng(data):\n",
    "    data['bedrooms_per_Household'] = data['total_bedrooms']/data['households']\n",
    "    data['population_per_household'] = data['population']/data['households']\n",
    "    data['rooms_per_household'] = data['total_rooms']/data['households']\n",
    "    \n",
    "    return data"
   ]
  },
  {
   "cell_type": "code",
   "execution_count": 91,
   "metadata": {},
   "outputs": [
    {
     "data": {
      "text/html": [
       "<div>\n",
       "<style scoped>\n",
       "    .dataframe tbody tr th:only-of-type {\n",
       "        vertical-align: middle;\n",
       "    }\n",
       "\n",
       "    .dataframe tbody tr th {\n",
       "        vertical-align: top;\n",
       "    }\n",
       "\n",
       "    .dataframe thead th {\n",
       "        text-align: right;\n",
       "    }\n",
       "</style>\n",
       "<table border=\"1\" class=\"dataframe\">\n",
       "  <thead>\n",
       "    <tr style=\"text-align: right;\">\n",
       "      <th></th>\n",
       "      <th>longitude</th>\n",
       "      <th>latitude</th>\n",
       "      <th>housing_median_age</th>\n",
       "      <th>total_rooms</th>\n",
       "      <th>total_bedrooms</th>\n",
       "      <th>population</th>\n",
       "      <th>households</th>\n",
       "      <th>median_income</th>\n",
       "      <th>bedrooms_per_Household</th>\n",
       "      <th>population_per_household</th>\n",
       "      <th>rooms_per_household</th>\n",
       "    </tr>\n",
       "  </thead>\n",
       "  <tbody>\n",
       "    <tr>\n",
       "      <th>13325</th>\n",
       "      <td>-117.63</td>\n",
       "      <td>34.06</td>\n",
       "      <td>39.0</td>\n",
       "      <td>1210.0</td>\n",
       "      <td>310.0</td>\n",
       "      <td>1294.0</td>\n",
       "      <td>303.0</td>\n",
       "      <td>2.3636</td>\n",
       "      <td>1.023102</td>\n",
       "      <td>4.270627</td>\n",
       "      <td>3.993399</td>\n",
       "    </tr>\n",
       "    <tr>\n",
       "      <th>20355</th>\n",
       "      <td>-118.96</td>\n",
       "      <td>34.19</td>\n",
       "      <td>16.0</td>\n",
       "      <td>1807.0</td>\n",
       "      <td>346.0</td>\n",
       "      <td>587.0</td>\n",
       "      <td>296.0</td>\n",
       "      <td>1.9811</td>\n",
       "      <td>1.168919</td>\n",
       "      <td>1.983108</td>\n",
       "      <td>6.104730</td>\n",
       "    </tr>\n",
       "    <tr>\n",
       "      <th>7481</th>\n",
       "      <td>-118.23</td>\n",
       "      <td>33.93</td>\n",
       "      <td>23.0</td>\n",
       "      <td>545.0</td>\n",
       "      <td>131.0</td>\n",
       "      <td>610.0</td>\n",
       "      <td>126.0</td>\n",
       "      <td>1.4861</td>\n",
       "      <td>1.039683</td>\n",
       "      <td>4.841270</td>\n",
       "      <td>4.325397</td>\n",
       "    </tr>\n",
       "    <tr>\n",
       "      <th>15465</th>\n",
       "      <td>-117.22</td>\n",
       "      <td>33.18</td>\n",
       "      <td>13.0</td>\n",
       "      <td>4273.0</td>\n",
       "      <td>886.0</td>\n",
       "      <td>2328.0</td>\n",
       "      <td>801.0</td>\n",
       "      <td>3.3444</td>\n",
       "      <td>1.106117</td>\n",
       "      <td>2.906367</td>\n",
       "      <td>5.334582</td>\n",
       "    </tr>\n",
       "    <tr>\n",
       "      <th>18116</th>\n",
       "      <td>-122.02</td>\n",
       "      <td>37.30</td>\n",
       "      <td>32.0</td>\n",
       "      <td>2134.0</td>\n",
       "      <td>328.0</td>\n",
       "      <td>903.0</td>\n",
       "      <td>322.0</td>\n",
       "      <td>6.3590</td>\n",
       "      <td>1.018634</td>\n",
       "      <td>2.804348</td>\n",
       "      <td>6.627329</td>\n",
       "    </tr>\n",
       "    <tr>\n",
       "      <th>...</th>\n",
       "      <td>...</td>\n",
       "      <td>...</td>\n",
       "      <td>...</td>\n",
       "      <td>...</td>\n",
       "      <td>...</td>\n",
       "      <td>...</td>\n",
       "      <td>...</td>\n",
       "      <td>...</td>\n",
       "      <td>...</td>\n",
       "      <td>...</td>\n",
       "      <td>...</td>\n",
       "    </tr>\n",
       "    <tr>\n",
       "      <th>994</th>\n",
       "      <td>-121.73</td>\n",
       "      <td>37.71</td>\n",
       "      <td>12.0</td>\n",
       "      <td>5608.0</td>\n",
       "      <td>1049.0</td>\n",
       "      <td>2595.0</td>\n",
       "      <td>1067.0</td>\n",
       "      <td>3.9864</td>\n",
       "      <td>0.983130</td>\n",
       "      <td>2.432052</td>\n",
       "      <td>5.255858</td>\n",
       "    </tr>\n",
       "    <tr>\n",
       "      <th>5377</th>\n",
       "      <td>-118.39</td>\n",
       "      <td>34.04</td>\n",
       "      <td>49.0</td>\n",
       "      <td>1230.0</td>\n",
       "      <td>279.0</td>\n",
       "      <td>669.0</td>\n",
       "      <td>269.0</td>\n",
       "      <td>3.9038</td>\n",
       "      <td>1.037175</td>\n",
       "      <td>2.486989</td>\n",
       "      <td>4.572491</td>\n",
       "    </tr>\n",
       "    <tr>\n",
       "      <th>5448</th>\n",
       "      <td>-118.42</td>\n",
       "      <td>34.01</td>\n",
       "      <td>29.0</td>\n",
       "      <td>1996.0</td>\n",
       "      <td>489.0</td>\n",
       "      <td>960.0</td>\n",
       "      <td>449.0</td>\n",
       "      <td>3.6611</td>\n",
       "      <td>1.089087</td>\n",
       "      <td>2.138085</td>\n",
       "      <td>4.445434</td>\n",
       "    </tr>\n",
       "    <tr>\n",
       "      <th>9813</th>\n",
       "      <td>-121.92</td>\n",
       "      <td>36.61</td>\n",
       "      <td>29.0</td>\n",
       "      <td>3735.0</td>\n",
       "      <td>808.0</td>\n",
       "      <td>1873.0</td>\n",
       "      <td>757.0</td>\n",
       "      <td>3.1543</td>\n",
       "      <td>1.067371</td>\n",
       "      <td>2.474240</td>\n",
       "      <td>4.933950</td>\n",
       "    </tr>\n",
       "    <tr>\n",
       "      <th>11752</th>\n",
       "      <td>-121.21</td>\n",
       "      <td>38.76</td>\n",
       "      <td>16.0</td>\n",
       "      <td>1608.0</td>\n",
       "      <td>296.0</td>\n",
       "      <td>792.0</td>\n",
       "      <td>286.0</td>\n",
       "      <td>3.1583</td>\n",
       "      <td>1.034965</td>\n",
       "      <td>2.769231</td>\n",
       "      <td>5.622378</td>\n",
       "    </tr>\n",
       "  </tbody>\n",
       "</table>\n",
       "<p>13828 rows × 11 columns</p>\n",
       "</div>"
      ],
      "text/plain": [
       "       longitude  latitude  housing_median_age  total_rooms  total_bedrooms  \\\n",
       "13325    -117.63     34.06                39.0       1210.0           310.0   \n",
       "20355    -118.96     34.19                16.0       1807.0           346.0   \n",
       "7481     -118.23     33.93                23.0        545.0           131.0   \n",
       "15465    -117.22     33.18                13.0       4273.0           886.0   \n",
       "18116    -122.02     37.30                32.0       2134.0           328.0   \n",
       "...          ...       ...                 ...          ...             ...   \n",
       "994      -121.73     37.71                12.0       5608.0          1049.0   \n",
       "5377     -118.39     34.04                49.0       1230.0           279.0   \n",
       "5448     -118.42     34.01                29.0       1996.0           489.0   \n",
       "9813     -121.92     36.61                29.0       3735.0           808.0   \n",
       "11752    -121.21     38.76                16.0       1608.0           296.0   \n",
       "\n",
       "       population  households  median_income  bedrooms_per_Household  \\\n",
       "13325      1294.0       303.0         2.3636                1.023102   \n",
       "20355       587.0       296.0         1.9811                1.168919   \n",
       "7481        610.0       126.0         1.4861                1.039683   \n",
       "15465      2328.0       801.0         3.3444                1.106117   \n",
       "18116       903.0       322.0         6.3590                1.018634   \n",
       "...           ...         ...            ...                     ...   \n",
       "994        2595.0      1067.0         3.9864                0.983130   \n",
       "5377        669.0       269.0         3.9038                1.037175   \n",
       "5448        960.0       449.0         3.6611                1.089087   \n",
       "9813       1873.0       757.0         3.1543                1.067371   \n",
       "11752       792.0       286.0         3.1583                1.034965   \n",
       "\n",
       "       population_per_household  rooms_per_household  \n",
       "13325                  4.270627             3.993399  \n",
       "20355                  1.983108             6.104730  \n",
       "7481                   4.841270             4.325397  \n",
       "15465                  2.906367             5.334582  \n",
       "18116                  2.804348             6.627329  \n",
       "...                         ...                  ...  \n",
       "994                    2.432052             5.255858  \n",
       "5377                   2.486989             4.572491  \n",
       "5448                   2.138085             4.445434  \n",
       "9813                   2.474240             4.933950  \n",
       "11752                  2.769231             5.622378  \n",
       "\n",
       "[13828 rows x 11 columns]"
      ]
     },
     "execution_count": 91,
     "metadata": {},
     "output_type": "execute_result"
    }
   ],
   "source": [
    "housing_feature_eng = feature_eng(housing_num)\n",
    "housing_feature_eng"
   ]
  },
  {
   "cell_type": "markdown",
   "metadata": {},
   "source": [
    "### __Scaling the Data__\n",
    "#### Scaling is important as in some columns such as \"longitute\" the value range is significantly smaller compared to range of values in columns such as \"total_bedrooms\".\n",
    "#### In Unscaled data, the algorithm might think that the columns in which the value range is bigger is much more important, which might not be the case\n",
    "#### Therefore in order to prevent that to happen, we Scale the Data with respect to all colunmns \n",
    "#### We use _StandardScaler_ to Scale the Data "
   ]
  },
  {
   "cell_type": "code",
   "execution_count": 92,
   "metadata": {},
   "outputs": [
    {
     "data": {
      "text/plain": [
       "array([[ 0.97214485, -0.73940276,  0.81321472, ..., -0.15724727,\n",
       "         0.11294847, -0.59541575],\n",
       "       [ 0.30675114, -0.6783732 , -1.01770862, ...,  0.13855464,\n",
       "        -0.09912619,  0.27582913],\n",
       "       [ 0.67196724, -0.80043233, -0.46047108, ..., -0.1236128 ,\n",
       "         0.16585245, -0.4584163 ],\n",
       "       ...,\n",
       "       [ 0.57691099, -0.76287567,  0.01716109, ..., -0.02339176,\n",
       "        -0.0847584 , -0.40888259],\n",
       "       [-1.17412507,  0.45771563,  0.01716109, ..., -0.0674439 ,\n",
       "        -0.05359357, -0.20729565],\n",
       "       [-0.8189149 ,  1.46705074, -1.01770862, ..., -0.13318268,\n",
       "        -0.02624518,  0.07678552]])"
      ]
     },
     "execution_count": 92,
     "metadata": {},
     "output_type": "execute_result"
    }
   ],
   "source": [
    "from sklearn.preprocessing import StandardScaler\n",
    "\n",
    "scaler = StandardScaler()\n",
    "housing_scaled = scaler.fit_transform(housing_feature_eng)\n",
    "housing_scaled"
   ]
  },
  {
   "cell_type": "markdown",
   "metadata": {},
   "source": [
    "## __PipeLines__\n",
    "### Data is input from one end of the pipeline and gets transformed and output data is produced at the other end"
   ]
  },
  {
   "cell_type": "code",
   "execution_count": 101,
   "metadata": {},
   "outputs": [],
   "source": [
    "housing = strat_train.drop(['median_house_value'],axis=1)\n",
    "housing_label = strat_train['median_house_value'].copy()\n",
    "\n",
    "def data_set_transformation(data):\n",
    "\n",
    "    #Seperate Labels if they exist\n",
    "    if 'median_house_value' in data.columns:\n",
    "        labels = data['median_house_value']\n",
    "        data = data.drop(['median_house_value'],axis=1)\n",
    "    else:\n",
    "        labels = None\n",
    "    \n",
    "    #Feature Engngineering\n",
    "    feature_eng_data = feature_eng(data)\n",
    "    features = list(feature_eng_data.columns)\n",
    "\n",
    "    #imputing data to remove NaN values if any\n",
    "    from sklearn.impute import SimpleImputer\n",
    "\n",
    "    housing_num = feature_eng_data.select_dtypes(include=[np.number])\n",
    "    imputer = SimpleImputer()\n",
    "    housing_imputed = imputer.fit_transform(housing_num)\n",
    "\n",
    "    #Encoding Categorical Data\n",
    "    housing_num = feature_eng_data.select_dtypes(exclude=[np.number])\n",
    "\n",
    "    from sklearn.preprocessing import OneHotEncoder\n",
    "    cat_encoder = OneHotEncoder(sparse=False)\n",
    "    housing_cat_1hot = cat_encoder.fit_transform(housing_num)\n",
    "    features = features + cat_encoder.categories_[0].tolist()\n",
    "    features.remove('ocean_proximity')# We do not need this as we just encoded thsi column in OneHot Encoder\n",
    "\n",
    "    #Scale the Data\n",
    "    from sklearn.preprocessing import StandardScaler\n",
    "\n",
    "    scaler = StandardScaler()\n",
    "    housing_scaled = scaler.fit_transform(housing_imputed)\n",
    "\n",
    "    #Concatenate the Scaled data and the Encoded Catergorized columns\n",
    "    output = np.hstack([housing_scaled,housing_cat_1hot])\n",
    "\n",
    "    return output, labels, features"
   ]
  },
  {
   "cell_type": "code",
   "execution_count": 102,
   "metadata": {},
   "outputs": [
    {
     "data": {
      "text/plain": [
       "['<1H OCEAN', 'INLAND', 'ISLAND', 'NEAR BAY', 'NEAR OCEAN']"
      ]
     },
     "execution_count": 102,
     "metadata": {},
     "output_type": "execute_result"
    }
   ],
   "source": [
    "cat_encoder.categories_[0].tolist()"
   ]
  },
  {
   "cell_type": "markdown",
   "metadata": {},
   "source": [
    "## __Select and Train Model__"
   ]
  },
  {
   "cell_type": "code",
   "execution_count": 103,
   "metadata": {},
   "outputs": [
    {
     "data": {
      "text/plain": [
       "array([[ 0.97214485, -0.73940276,  0.81321472, ...,  0.        ,\n",
       "         0.        ,  0.        ],\n",
       "       [ 0.30675114, -0.6783732 , -1.01770862, ...,  0.        ,\n",
       "         0.        ,  0.        ],\n",
       "       [ 0.67196724, -0.80043233, -0.46047108, ...,  0.        ,\n",
       "         0.        ,  0.        ],\n",
       "       ...,\n",
       "       [ 0.57691099, -0.76287567,  0.01716109, ...,  0.        ,\n",
       "         0.        ,  0.        ],\n",
       "       [-1.17412507,  0.45771563,  0.01716109, ...,  0.        ,\n",
       "         0.        ,  1.        ],\n",
       "       [-0.8189149 ,  1.46705074, -1.01770862, ...,  0.        ,\n",
       "         0.        ,  0.        ]])"
      ]
     },
     "execution_count": 103,
     "metadata": {},
     "output_type": "execute_result"
    }
   ],
   "source": [
    "train_data, train_label, features = data_set_transformation(strat_train)\n",
    "train_data"
   ]
  },
  {
   "cell_type": "code",
   "execution_count": 104,
   "metadata": {},
   "outputs": [
    {
     "data": {
      "text/plain": [
       "['longitude',\n",
       " 'latitude',\n",
       " 'housing_median_age',\n",
       " 'total_rooms',\n",
       " 'total_bedrooms',\n",
       " 'population',\n",
       " 'households',\n",
       " 'median_income',\n",
       " 'bedrooms_per_Household',\n",
       " 'population_per_household',\n",
       " 'rooms_per_household',\n",
       " '<1H OCEAN',\n",
       " 'INLAND',\n",
       " 'ISLAND',\n",
       " 'NEAR BAY',\n",
       " 'NEAR OCEAN']"
      ]
     },
     "execution_count": 104,
     "metadata": {},
     "output_type": "execute_result"
    }
   ],
   "source": [
    "features"
   ]
  },
  {
   "cell_type": "code",
   "execution_count": 131,
   "metadata": {},
   "outputs": [
    {
     "data": {
      "text/plain": [
       "array([[ 0.70183745, -0.70566029,  1.87330449, ...,  0.        ,\n",
       "         0.        ,  0.        ],\n",
       "       [-1.02203944,  2.86579691,  0.92298052, ...,  0.        ,\n",
       "         0.        ,  0.        ],\n",
       "       [ 0.73164512, -0.79413185,  0.60620587, ...,  0.        ,\n",
       "         0.        ,  0.        ],\n",
       "       ...,\n",
       "       [-1.03694327,  0.69591548, -1.13605473, ...,  0.        ,\n",
       "         0.        ,  0.        ],\n",
       "       [ 0.85584374, -0.88260341, -0.66089275, ...,  0.        ,\n",
       "         0.        ,  0.        ],\n",
       "       [ 0.55776704, -0.76619346, -0.58169908, ...,  0.        ,\n",
       "         0.        ,  0.        ]])"
      ]
     },
     "execution_count": 131,
     "metadata": {},
     "output_type": "execute_result"
    }
   ],
   "source": [
    "test_data, test_label, features = data_set_transformation(strat_test)\n",
    "test_data"
   ]
  },
  {
   "cell_type": "markdown",
   "metadata": {},
   "source": [
    "## __Linear Regression__"
   ]
  },
  {
   "cell_type": "code",
   "execution_count": 132,
   "metadata": {},
   "outputs": [
    {
     "data": {
      "text/plain": [
       "LinearRegression()"
      ]
     },
     "execution_count": 132,
     "metadata": {},
     "output_type": "execute_result"
    }
   ],
   "source": [
    "from sklearn.linear_model import LinearRegression\n",
    "\n",
    "lm = LinearRegression()\n",
    "\n",
    "model = lm.fit(train_data, train_label)\n",
    "model"
   ]
  },
  {
   "cell_type": "code",
   "execution_count": 135,
   "metadata": {},
   "outputs": [
    {
     "data": {
      "text/html": [
       "<div>\n",
       "<style scoped>\n",
       "    .dataframe tbody tr th:only-of-type {\n",
       "        vertical-align: middle;\n",
       "    }\n",
       "\n",
       "    .dataframe tbody tr th {\n",
       "        vertical-align: top;\n",
       "    }\n",
       "\n",
       "    .dataframe thead th {\n",
       "        text-align: right;\n",
       "    }\n",
       "</style>\n",
       "<table border=\"1\" class=\"dataframe\">\n",
       "  <thead>\n",
       "    <tr style=\"text-align: right;\">\n",
       "      <th></th>\n",
       "      <th>Original_values</th>\n",
       "      <th>Predicted_values</th>\n",
       "      <th>Difference</th>\n",
       "    </tr>\n",
       "  </thead>\n",
       "  <tbody>\n",
       "    <tr>\n",
       "      <th>6770</th>\n",
       "      <td>469100.0</td>\n",
       "      <td>379509.426519</td>\n",
       "      <td>89590.573481</td>\n",
       "    </tr>\n",
       "    <tr>\n",
       "      <th>18823</th>\n",
       "      <td>43500.0</td>\n",
       "      <td>17095.237532</td>\n",
       "      <td>26404.762468</td>\n",
       "    </tr>\n",
       "    <tr>\n",
       "      <th>7674</th>\n",
       "      <td>171100.0</td>\n",
       "      <td>241980.280031</td>\n",
       "      <td>-70880.280031</td>\n",
       "    </tr>\n",
       "    <tr>\n",
       "      <th>15312</th>\n",
       "      <td>106300.0</td>\n",
       "      <td>148488.381143</td>\n",
       "      <td>-42188.381143</td>\n",
       "    </tr>\n",
       "    <tr>\n",
       "      <th>3607</th>\n",
       "      <td>169400.0</td>\n",
       "      <td>147413.517154</td>\n",
       "      <td>21986.482846</td>\n",
       "    </tr>\n",
       "    <tr>\n",
       "      <th>...</th>\n",
       "      <td>...</td>\n",
       "      <td>...</td>\n",
       "      <td>...</td>\n",
       "    </tr>\n",
       "    <tr>\n",
       "      <th>17008</th>\n",
       "      <td>282400.0</td>\n",
       "      <td>305939.776343</td>\n",
       "      <td>-23539.776343</td>\n",
       "    </tr>\n",
       "    <tr>\n",
       "      <th>6443</th>\n",
       "      <td>233100.0</td>\n",
       "      <td>151755.726421</td>\n",
       "      <td>81344.273579</td>\n",
       "    </tr>\n",
       "    <tr>\n",
       "      <th>18475</th>\n",
       "      <td>239300.0</td>\n",
       "      <td>219112.136546</td>\n",
       "      <td>20187.863454</td>\n",
       "    </tr>\n",
       "    <tr>\n",
       "      <th>10897</th>\n",
       "      <td>175000.0</td>\n",
       "      <td>177846.102031</td>\n",
       "      <td>-2846.102031</td>\n",
       "    </tr>\n",
       "    <tr>\n",
       "      <th>8985</th>\n",
       "      <td>500001.0</td>\n",
       "      <td>618014.961146</td>\n",
       "      <td>-118013.961146</td>\n",
       "    </tr>\n",
       "  </tbody>\n",
       "</table>\n",
       "<p>6812 rows × 3 columns</p>\n",
       "</div>"
      ],
      "text/plain": [
       "       Original_values  Predicted_values     Difference\n",
       "6770          469100.0     379509.426519   89590.573481\n",
       "18823          43500.0      17095.237532   26404.762468\n",
       "7674          171100.0     241980.280031  -70880.280031\n",
       "15312         106300.0     148488.381143  -42188.381143\n",
       "3607          169400.0     147413.517154   21986.482846\n",
       "...                ...               ...            ...\n",
       "17008         282400.0     305939.776343  -23539.776343\n",
       "6443          233100.0     151755.726421   81344.273579\n",
       "18475         239300.0     219112.136546   20187.863454\n",
       "10897         175000.0     177846.102031   -2846.102031\n",
       "8985          500001.0     618014.961146 -118013.961146\n",
       "\n",
       "[6812 rows x 3 columns]"
      ]
     },
     "execution_count": 135,
     "metadata": {},
     "output_type": "execute_result"
    }
   ],
   "source": [
    "original_values_lm = test_label\n",
    "predicted_values_lm = lm.predict(test_data)\n",
    "\n",
    "compare = pd.DataFrame(data={\"Original_values\":original_values_lm,\"Predicted_values\":predicted_values_lm})\n",
    "\n",
    "compare[\"Difference\"] = compare[\"Original_values\"]-compare[\"Predicted_values\"]\n",
    "compare"
   ]
  },
  {
   "cell_type": "code",
   "execution_count": 136,
   "metadata": {},
   "outputs": [
    {
     "data": {
      "text/plain": [
       "68089.94189985337"
      ]
     },
     "execution_count": 136,
     "metadata": {},
     "output_type": "execute_result"
    }
   ],
   "source": [
    "from sklearn.metrics import mean_squared_error\n",
    "\n",
    "l_mse = mean_squared_error(original_values_lm,predicted_values_lm)\n",
    "l_rmse = np.sqrt(l_mse)\n",
    "l_rmse\n"
   ]
  },
  {
   "cell_type": "code",
   "execution_count": 177,
   "metadata": {},
   "outputs": [
    {
     "data": {
      "text/plain": [
       "0.46357607514611593"
      ]
     },
     "execution_count": 177,
     "metadata": {},
     "output_type": "execute_result"
    }
   ],
   "source": [
    "rmspe = np.sqrt(np.mean(np.square(((original_values_lm - predicted_values_lm) / original_values_lm)), axis=0))\n",
    "rmspe"
   ]
  },
  {
   "cell_type": "code",
   "execution_count": 178,
   "metadata": {},
   "outputs": [
    {
     "data": {
      "text/plain": [
       "53.6423924853884"
      ]
     },
     "execution_count": 178,
     "metadata": {},
     "output_type": "execute_result"
    }
   ],
   "source": [
    "acc= 1-rmspe\n",
    "acc*100"
   ]
  },
  {
   "cell_type": "code",
   "execution_count": 148,
   "metadata": {},
   "outputs": [
    {
     "data": {
      "text/plain": [
       "<AxesSubplot:xlabel='Original_values', ylabel='Predicted_values'>"
      ]
     },
     "execution_count": 148,
     "metadata": {},
     "output_type": "execute_result"
    },
    {
     "data": {
      "image/png": "[encoded data removed]",
      "text/plain": [
       "<Figure size 432x288 with 1 Axes>"
      ]
     },
     "metadata": {
      "needs_background": "light"
     },
     "output_type": "display_data"
    }
   ],
   "source": [
    "compare.plot.scatter(x='Original_values',y='Predicted_values')"
   ]
  },
  {
   "cell_type": "code",
   "execution_count": 165,
   "metadata": {},
   "outputs": [
    {
     "name": "stderr",
     "output_type": "stream",
     "text": [
      "C:\\Users\\Adil Naqvi\\AppData\\Local\\Programs\\Python\\Python310\\lib\\site-packages\\sklearn\\linear_model\\_base.py:141: FutureWarning: 'normalize' was deprecated in version 1.0 and will be removed in 1.2.\n",
      "If you wish to scale the data, use Pipeline with a StandardScaler in a preprocessing stage. To reproduce the previous behavior:\n",
      "\n",
      "from sklearn.pipeline import make_pipeline\n",
      "\n",
      "model = make_pipeline(StandardScaler(with_mean=False), Lasso())\n",
      "\n",
      "If you wish to pass a sample_weight parameter, you need to pass it as a fit parameter to each step of the pipeline as follows:\n",
      "\n",
      "kwargs = {s[0] + '__sample_weight': sample_weight for s in model.steps}\n",
      "model.fit(X, y, **kwargs)\n",
      "\n",
      "Set parameter alpha to: original_alpha * np.sqrt(n_samples). \n",
      "  warnings.warn(\n"
     ]
    },
    {
     "data": {
      "text/plain": [
       "Lasso(normalize=True)"
      ]
     },
     "execution_count": 165,
     "metadata": {},
     "output_type": "execute_result"
    }
   ],
   "source": [
    "from sklearn.linear_model import Lasso\n",
    "\n",
    "lasso = Lasso(normalize=True)\n",
    "\n",
    "lasso.fit(train_data, train_label)\n"
   ]
  },
  {
   "cell_type": "code",
   "execution_count": 166,
   "metadata": {},
   "outputs": [
    {
     "data": {
      "text/html": [
       "<div>\n",
       "<style scoped>\n",
       "    .dataframe tbody tr th:only-of-type {\n",
       "        vertical-align: middle;\n",
       "    }\n",
       "\n",
       "    .dataframe tbody tr th {\n",
       "        vertical-align: top;\n",
       "    }\n",
       "\n",
       "    .dataframe thead th {\n",
       "        text-align: right;\n",
       "    }\n",
       "</style>\n",
       "<table border=\"1\" class=\"dataframe\">\n",
       "  <thead>\n",
       "    <tr style=\"text-align: right;\">\n",
       "      <th></th>\n",
       "      <th>Original_values</th>\n",
       "      <th>Predicted_values</th>\n",
       "      <th>Difference</th>\n",
       "    </tr>\n",
       "  </thead>\n",
       "  <tbody>\n",
       "    <tr>\n",
       "      <th>6770</th>\n",
       "      <td>469100.0</td>\n",
       "      <td>379446.387201</td>\n",
       "      <td>89653.612799</td>\n",
       "    </tr>\n",
       "    <tr>\n",
       "      <th>18823</th>\n",
       "      <td>43500.0</td>\n",
       "      <td>22490.046835</td>\n",
       "      <td>21009.953165</td>\n",
       "    </tr>\n",
       "    <tr>\n",
       "      <th>7674</th>\n",
       "      <td>171100.0</td>\n",
       "      <td>242770.555245</td>\n",
       "      <td>-71670.555245</td>\n",
       "    </tr>\n",
       "    <tr>\n",
       "      <th>15312</th>\n",
       "      <td>106300.0</td>\n",
       "      <td>148611.116614</td>\n",
       "      <td>-42311.116614</td>\n",
       "    </tr>\n",
       "    <tr>\n",
       "      <th>3607</th>\n",
       "      <td>169400.0</td>\n",
       "      <td>146303.655712</td>\n",
       "      <td>23096.344288</td>\n",
       "    </tr>\n",
       "    <tr>\n",
       "      <th>...</th>\n",
       "      <td>...</td>\n",
       "      <td>...</td>\n",
       "      <td>...</td>\n",
       "    </tr>\n",
       "    <tr>\n",
       "      <th>17008</th>\n",
       "      <td>282400.0</td>\n",
       "      <td>304757.970800</td>\n",
       "      <td>-22357.970800</td>\n",
       "    </tr>\n",
       "    <tr>\n",
       "      <th>6443</th>\n",
       "      <td>233100.0</td>\n",
       "      <td>150051.318719</td>\n",
       "      <td>83048.681281</td>\n",
       "    </tr>\n",
       "    <tr>\n",
       "      <th>18475</th>\n",
       "      <td>239300.0</td>\n",
       "      <td>218478.282849</td>\n",
       "      <td>20821.717151</td>\n",
       "    </tr>\n",
       "    <tr>\n",
       "      <th>10897</th>\n",
       "      <td>175000.0</td>\n",
       "      <td>177331.517035</td>\n",
       "      <td>-2331.517035</td>\n",
       "    </tr>\n",
       "    <tr>\n",
       "      <th>8985</th>\n",
       "      <td>500001.0</td>\n",
       "      <td>604937.412118</td>\n",
       "      <td>-104936.412118</td>\n",
       "    </tr>\n",
       "  </tbody>\n",
       "</table>\n",
       "<p>6812 rows × 3 columns</p>\n",
       "</div>"
      ],
      "text/plain": [
       "       Original_values  Predicted_values     Difference\n",
       "6770          469100.0     379446.387201   89653.612799\n",
       "18823          43500.0      22490.046835   21009.953165\n",
       "7674          171100.0     242770.555245  -71670.555245\n",
       "15312         106300.0     148611.116614  -42311.116614\n",
       "3607          169400.0     146303.655712   23096.344288\n",
       "...                ...               ...            ...\n",
       "17008         282400.0     304757.970800  -22357.970800\n",
       "6443          233100.0     150051.318719   83048.681281\n",
       "18475         239300.0     218478.282849   20821.717151\n",
       "10897         175000.0     177331.517035   -2331.517035\n",
       "8985          500001.0     604937.412118 -104936.412118\n",
       "\n",
       "[6812 rows x 3 columns]"
      ]
     },
     "execution_count": 166,
     "metadata": {},
     "output_type": "execute_result"
    }
   ],
   "source": [
    "original_values_lasso = test_label\n",
    "predicted_values_lasso = lasso.predict(test_data)\n",
    "\n",
    "compare_lasso = pd.DataFrame(data={\"Original_values\":original_values_lasso,\"Predicted_values\":predicted_values_lasso})\n",
    "\n",
    "compare_lasso[\"Difference\"] = compare_lasso[\"Original_values\"]-compare_lasso[\"Predicted_values\"]\n",
    "compare_lasso"
   ]
  },
  {
   "cell_type": "code",
   "execution_count": 167,
   "metadata": {},
   "outputs": [
    {
     "data": {
      "text/plain": [
       "68137.06859788405"
      ]
     },
     "execution_count": 167,
     "metadata": {},
     "output_type": "execute_result"
    }
   ],
   "source": [
    "lasso_mse = mean_squared_error(original_values_lasso,predicted_values_lasso)\n",
    "lasso_rmse = np.sqrt(lasso_mse)\n",
    "lasso_rmse"
   ]
  },
  {
   "cell_type": "code",
   "execution_count": 179,
   "metadata": {},
   "outputs": [
    {
     "data": {
      "text/plain": [
       "0.46097179310002173"
      ]
     },
     "execution_count": 179,
     "metadata": {},
     "output_type": "execute_result"
    }
   ],
   "source": [
    "rmspe = np.sqrt(np.mean(np.square(((original_values_lasso - predicted_values_lasso) / original_values_lasso)), axis=0))\n",
    "rmspe"
   ]
  },
  {
   "cell_type": "code",
   "execution_count": 180,
   "metadata": {},
   "outputs": [
    {
     "data": {
      "text/plain": [
       "53.90282068999783"
      ]
     },
     "execution_count": 180,
     "metadata": {},
     "output_type": "execute_result"
    }
   ],
   "source": [
    "acc = 1-rmspe\n",
    "acc*100"
   ]
  },
  {
   "cell_type": "code",
   "execution_count": 168,
   "metadata": {},
   "outputs": [
    {
     "data": {
      "text/plain": [
       "<AxesSubplot:xlabel='Original_values', ylabel='Predicted_values'>"
      ]
     },
     "execution_count": 168,
     "metadata": {},
     "output_type": "execute_result"
    },
    {
     "data": {
      "image/png": "[encoded data removed]",
      "text/plain": [
       "<Figure size 432x288 with 1 Axes>"
      ]
     },
     "metadata": {
      "needs_background": "light"
     },
     "output_type": "display_data"
    }
   ],
   "source": [
    "compare_lasso.plot.scatter(x='Original_values',y='Predicted_values')"
   ]
  },
  {
   "cell_type": "markdown",
   "metadata": {},
   "source": [
    "### __Linear Regression__ or __Lasso Regression__ is not able to predict the Median House Values with good accuracy, thus the discrepancy in the plot\n",
    "### We can try other Regression algortihms such as __Random Forest Regressor__"
   ]
  },
  {
   "cell_type": "markdown",
   "metadata": {},
   "source": [
    "## __Random Forest Regression__"
   ]
  },
  {
   "cell_type": "code",
   "execution_count": 126,
   "metadata": {},
   "outputs": [
    {
     "data": {
      "text/plain": [
       "RandomForestRegressor(random_state=42)"
      ]
     },
     "execution_count": 126,
     "metadata": {},
     "output_type": "execute_result"
    }
   ],
   "source": [
    "from sklearn.ensemble import RandomForestRegressor\n",
    "\n",
    "forest_reg = RandomForestRegressor(n_estimators=100,random_state=42)\n",
    "forest_reg.fit(train_data,train_label)"
   ]
  },
  {
   "cell_type": "code",
   "execution_count": 143,
   "metadata": {},
   "outputs": [
    {
     "data": {
      "text/html": [
       "<div>\n",
       "<style scoped>\n",
       "    .dataframe tbody tr th:only-of-type {\n",
       "        vertical-align: middle;\n",
       "    }\n",
       "\n",
       "    .dataframe tbody tr th {\n",
       "        vertical-align: top;\n",
       "    }\n",
       "\n",
       "    .dataframe thead th {\n",
       "        text-align: right;\n",
       "    }\n",
       "</style>\n",
       "<table border=\"1\" class=\"dataframe\">\n",
       "  <thead>\n",
       "    <tr style=\"text-align: right;\">\n",
       "      <th></th>\n",
       "      <th>Original_values</th>\n",
       "      <th>Predicted_values</th>\n",
       "      <th>Difference</th>\n",
       "    </tr>\n",
       "  </thead>\n",
       "  <tbody>\n",
       "    <tr>\n",
       "      <th>13325</th>\n",
       "      <td>88300.0</td>\n",
       "      <td>94222.00</td>\n",
       "      <td>-5922.00</td>\n",
       "    </tr>\n",
       "    <tr>\n",
       "      <th>20355</th>\n",
       "      <td>162500.0</td>\n",
       "      <td>224927.12</td>\n",
       "      <td>-62427.12</td>\n",
       "    </tr>\n",
       "    <tr>\n",
       "      <th>7481</th>\n",
       "      <td>95100.0</td>\n",
       "      <td>96233.00</td>\n",
       "      <td>-1133.00</td>\n",
       "    </tr>\n",
       "    <tr>\n",
       "      <th>15465</th>\n",
       "      <td>183900.0</td>\n",
       "      <td>178498.00</td>\n",
       "      <td>5402.00</td>\n",
       "    </tr>\n",
       "    <tr>\n",
       "      <th>18116</th>\n",
       "      <td>341900.0</td>\n",
       "      <td>358925.06</td>\n",
       "      <td>-17025.06</td>\n",
       "    </tr>\n",
       "    <tr>\n",
       "      <th>...</th>\n",
       "      <td>...</td>\n",
       "      <td>...</td>\n",
       "      <td>...</td>\n",
       "    </tr>\n",
       "    <tr>\n",
       "      <th>994</th>\n",
       "      <td>200200.0</td>\n",
       "      <td>185577.00</td>\n",
       "      <td>14623.00</td>\n",
       "    </tr>\n",
       "    <tr>\n",
       "      <th>5377</th>\n",
       "      <td>308300.0</td>\n",
       "      <td>313954.00</td>\n",
       "      <td>-5654.00</td>\n",
       "    </tr>\n",
       "    <tr>\n",
       "      <th>5448</th>\n",
       "      <td>344200.0</td>\n",
       "      <td>335418.00</td>\n",
       "      <td>8782.00</td>\n",
       "    </tr>\n",
       "    <tr>\n",
       "      <th>9813</th>\n",
       "      <td>253800.0</td>\n",
       "      <td>242721.00</td>\n",
       "      <td>11079.00</td>\n",
       "    </tr>\n",
       "    <tr>\n",
       "      <th>11752</th>\n",
       "      <td>239200.0</td>\n",
       "      <td>195899.00</td>\n",
       "      <td>43301.00</td>\n",
       "    </tr>\n",
       "  </tbody>\n",
       "</table>\n",
       "<p>13828 rows × 3 columns</p>\n",
       "</div>"
      ],
      "text/plain": [
       "       Original_values  Predicted_values  Difference\n",
       "13325          88300.0          94222.00    -5922.00\n",
       "20355         162500.0         224927.12   -62427.12\n",
       "7481           95100.0          96233.00    -1133.00\n",
       "15465         183900.0         178498.00     5402.00\n",
       "18116         341900.0         358925.06   -17025.06\n",
       "...                ...               ...         ...\n",
       "994           200200.0         185577.00    14623.00\n",
       "5377          308300.0         313954.00    -5654.00\n",
       "5448          344200.0         335418.00     8782.00\n",
       "9813          253800.0         242721.00    11079.00\n",
       "11752         239200.0         195899.00    43301.00\n",
       "\n",
       "[13828 rows x 3 columns]"
      ]
     },
     "execution_count": 143,
     "metadata": {},
     "output_type": "execute_result"
    }
   ],
   "source": [
    "original_values_fr = train_label\n",
    "predicted_values_fr = forest_reg.predict(train_data)\n",
    "\n",
    "compare_fr = pd.DataFrame(data={\"Original_values\":train_label,\"Predicted_values\":predicted_values_fr})\n",
    "\n",
    "compare_fr[\"Difference\"] = compare_fr[\"Original_values\"]-compare_fr[\"Predicted_values\"]\n",
    "compare_fr\n"
   ]
  },
  {
   "cell_type": "code",
   "execution_count": 144,
   "metadata": {},
   "outputs": [
    {
     "data": {
      "text/plain": [
       "18819.935952731637"
      ]
     },
     "execution_count": 144,
     "metadata": {},
     "output_type": "execute_result"
    }
   ],
   "source": [
    "forest_mse = mean_squared_error(original_values_fr,predicted_values_fr)\n",
    "forest_rmse = np.sqrt(forest_mse)\n",
    "forest_rmse"
   ]
  },
  {
   "cell_type": "code",
   "execution_count": 181,
   "metadata": {},
   "outputs": [
    {
     "data": {
      "text/plain": [
       "11.426321843279306"
      ]
     },
     "execution_count": 181,
     "metadata": {},
     "output_type": "execute_result"
    }
   ],
   "source": [
    "rmspe = np.sqrt(np.mean(np.square(((original_values_fr - predicted_values_fr) / original_values_fr)), axis=0))\n",
    "rmspe*100"
   ]
  },
  {
   "cell_type": "code",
   "execution_count": 176,
   "metadata": {},
   "outputs": [
    {
     "data": {
      "text/plain": [
       "88.57367815672069"
      ]
     },
     "execution_count": 176,
     "metadata": {},
     "output_type": "execute_result"
    }
   ],
   "source": [
    "acc = 1-rmspe\n",
    "acc*100"
   ]
  },
  {
   "cell_type": "code",
   "execution_count": 162,
   "metadata": {},
   "outputs": [
    {
     "data": {
      "text/plain": [
       "<AxesSubplot:xlabel='Original_values', ylabel='Predicted_values'>"
      ]
     },
     "execution_count": 162,
     "metadata": {},
     "output_type": "execute_result"
    },
    {
     "data": {
      "image/png": "[encoded data removed]",
      "text/plain": [
       "<Figure size 432x288 with 1 Axes>"
      ]
     },
     "metadata": {
      "needs_background": "light"
     },
     "output_type": "display_data"
    }
   ],
   "source": [
    "compare_fr.plot.scatter(x='Original_values',y='Predicted_values')"
   ]
  },
  {
   "cell_type": "markdown",
   "metadata": {},
   "source": [
    "### It is clear that the __Random Forsest Regression__ algorithm provides better prediction values as compared to Linear Regression algorithim with an Accuracy of ___88.57%___"
   ]
  },
  {
   "cell_type": "code",
   "execution_count": null,
   "metadata": {},
   "outputs": [],
   "source": []
  }
 ],
 "metadata": {
  "interpreter": {
   "hash": "702e50165871477f1a32db5c30ed7371b0a3e4b53638fedb376cad0f8331f994"
  },
  "kernelspec": {
   "display_name": "Python 3 (ipykernel)",
   "language": "python",
   "name": "python3"
  },
  "language_info": {
   "codemirror_mode": {
    "name": "ipython",
    "version": 3
   },
   "file_extension": ".py",
   "mimetype": "text/x-python",
   "name": "python",
   "nbconvert_exporter": "python",
   "pygments_lexer": "ipython3",
   "version": "3.9.7"
  }
 },
 "nbformat": 4,
 "nbformat_minor": 2
}
